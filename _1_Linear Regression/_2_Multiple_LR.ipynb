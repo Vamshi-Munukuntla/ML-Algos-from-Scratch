{
 "cells": [
  {
   "cell_type": "code",
   "execution_count": 1,
   "id": "f0225056-6c9b-4267-92df-54f62436bb29",
   "metadata": {},
   "outputs": [],
   "source": [
    "from sklearn.datasets import make_regression\n",
    "import pandas as pd\n",
    "import numpy as np\n",
    "\n",
    "import plotly.express as px\n",
    "import plotly.graph_objects as go\n",
    "\n",
    "from sklearn.metrics import mean_absolute_error, mean_squared_error, r2_score"
   ]
  },
  {
   "cell_type": "code",
   "execution_count": 2,
   "id": "42c659f0-251b-4d1c-870d-36cffbd766c4",
   "metadata": {},
   "outputs": [],
   "source": [
    "X,y = make_regression(n_samples=100, n_features=2,n_informative=2, n_targets=1, noise=50)"
   ]
  },
  {
   "cell_type": "code",
   "execution_count": 4,
   "id": "774b5d38-15ec-41f6-8d39-001d4d725b2b",
   "metadata": {},
   "outputs": [],
   "source": [
    "df = pd.DataFrame({'feature1':X[:,0],\n",
    "                  'feature2':X[:,1],\n",
    "                   'target':y})"
   ]
  },
  {
   "cell_type": "code",
   "execution_count": 5,
   "id": "5619b674-2308-431c-a3c9-e1a0e779c89d",
   "metadata": {},
   "outputs": [
    {
     "data": {
      "text/html": [
       "<div>\n",
       "<style scoped>\n",
       "    .dataframe tbody tr th:only-of-type {\n",
       "        vertical-align: middle;\n",
       "    }\n",
       "\n",
       "    .dataframe tbody tr th {\n",
       "        vertical-align: top;\n",
       "    }\n",
       "\n",
       "    .dataframe thead th {\n",
       "        text-align: right;\n",
       "    }\n",
       "</style>\n",
       "<table border=\"1\" class=\"dataframe\">\n",
       "  <thead>\n",
       "    <tr style=\"text-align: right;\">\n",
       "      <th></th>\n",
       "      <th>feature1</th>\n",
       "      <th>feature2</th>\n",
       "      <th>target</th>\n",
       "    </tr>\n",
       "  </thead>\n",
       "  <tbody>\n",
       "    <tr>\n",
       "      <th>0</th>\n",
       "      <td>-0.336621</td>\n",
       "      <td>0.076736</td>\n",
       "      <td>-56.051171</td>\n",
       "    </tr>\n",
       "    <tr>\n",
       "      <th>1</th>\n",
       "      <td>-0.774334</td>\n",
       "      <td>0.017913</td>\n",
       "      <td>4.705383</td>\n",
       "    </tr>\n",
       "    <tr>\n",
       "      <th>2</th>\n",
       "      <td>-0.899001</td>\n",
       "      <td>-0.412412</td>\n",
       "      <td>-80.712164</td>\n",
       "    </tr>\n",
       "    <tr>\n",
       "      <th>3</th>\n",
       "      <td>0.872647</td>\n",
       "      <td>0.736013</td>\n",
       "      <td>88.492111</td>\n",
       "    </tr>\n",
       "    <tr>\n",
       "      <th>4</th>\n",
       "      <td>-0.330576</td>\n",
       "      <td>-0.245409</td>\n",
       "      <td>-76.601963</td>\n",
       "    </tr>\n",
       "  </tbody>\n",
       "</table>\n",
       "</div>"
      ],
      "text/plain": [
       "   feature1  feature2     target\n",
       "0 -0.336621  0.076736 -56.051171\n",
       "1 -0.774334  0.017913   4.705383\n",
       "2 -0.899001 -0.412412 -80.712164\n",
       "3  0.872647  0.736013  88.492111\n",
       "4 -0.330576 -0.245409 -76.601963"
      ]
     },
     "execution_count": 5,
     "metadata": {},
     "output_type": "execute_result"
    }
   ],
   "source": [
    "df.head()"
   ]
  },
  {
   "cell_type": "code",
   "execution_count": 6,
   "id": "3d39c40d-66d4-47e4-9f24-092a1f390af3",
   "metadata": {},
   "outputs": [
    {
     "data": {
      "text/plain": [
       "(100, 3)"
      ]
     },
     "execution_count": 6,
     "metadata": {},
     "output_type": "execute_result"
    }
   ],
   "source": [
    "df.shape"
   ]
  },
  {
   "cell_type": "code",
   "execution_count": 10,
   "id": "043ab0ce-876c-4ad9-aad1-348c5e75b085",
   "metadata": {},
   "outputs": [
    {
     "data": {
      "application/vnd.plotly.v1+json": {
       "config": {
        "plotlyServerURL": "https://plot.ly"
       },
       "data": [
        {
         "hovertemplate": "feature1=%{x}<br>feature2=%{y}<br>target=%{z}<extra></extra>",
         "legendgroup": "",
         "marker": {
          "color": "#636efa",
          "symbol": "circle"
         },
         "mode": "markers",
         "name": "",
         "scene": "scene",
         "showlegend": false,
         "type": "scatter3d",
         "x": [
          -0.3366207644612774,
          -0.7743339359406056,
          -0.8990010540322692,
          0.8726469802509281,
          -0.33057556698682544,
          0.09007664427045117,
          -1.8334051762603703,
          1.8817034197142128,
          0.012042072036485777,
          0.09572714892426795,
          1.8846894721664902,
          1.6335933148395738,
          2.3682329073893613,
          1.0625813276663254,
          0.5408598376598629,
          -1.9873585044843836,
          1.7839925977773023,
          -0.17351593209135793,
          0.49052376264335135,
          0.1491542103690597,
          -0.9841765205785347,
          0.25823490122983894,
          -0.8893925031576699,
          -0.5403583631557375,
          0.826971623271001,
          -1.0959015875477174,
          1.3360813178287618,
          -0.3462473918509882,
          1.4117609891301612,
          0.17556673458694222,
          -0.7111229112400801,
          0.4576122017793142,
          -0.05888606551571944,
          -0.15669533325750268,
          -0.40219130381658597,
          -0.2258448343183051,
          -0.8650911074247809,
          -1.122859070305171,
          0.8054961131793656,
          -0.4587637510753603,
          0.48207499516634233,
          -1.3036632755178568,
          2.651566597384198,
          -0.3067549821915078,
          -0.06417113987343828,
          1.3104915559229846,
          -1.3481217882172776,
          -0.5800855128844851,
          -1.283700830236938,
          -1.0014413466298866,
          -1.7735500907640296,
          -0.026134341167510233,
          -0.025413300298478717,
          -0.7606588612995593,
          1.018155585084061,
          1.2707661092977751,
          1.0456438142856237,
          -0.4728563275334767,
          -0.49017423314787,
          -0.6864741774574491,
          -0.2681567370804653,
          1.1287266268157548,
          -0.8550405602990936,
          -1.097525557754874,
          -2.172612338728598,
          0.6340614164960774,
          -0.783803908911786,
          1.044672443677476,
          -0.7705166576882896,
          0.122189777793409,
          0.17428062231662114,
          -0.31457348077800107,
          1.526243932518339,
          -0.6437297181869357,
          2.089754029196796,
          0.10260053256886778,
          -2.2858011281670683,
          2.1327455612406387,
          -0.9084425293553317,
          0.8230993509929884,
          -1.1581295306572355,
          2.425558186901254,
          -0.25707260181196445,
          0.3963677986764341,
          -0.7583357766782157,
          -0.4675847182188051,
          0.7383567997933296,
          -0.41300963615768366,
          -0.831455178779418,
          -1.2770709909401494,
          -1.144004186930778,
          0.3862134933785371,
          0.6980649133861745,
          0.1290656347810635,
          -1.0746013736444724,
          -0.9152348782110423,
          1.1066959437403494,
          -0.9199910274868827,
          -1.6258364356017558,
          -0.6365491557115427
         ],
         "y": [
          0.07673598546323258,
          0.017912708207755614,
          -0.41241151829113265,
          0.7360128563409546,
          -0.2454093782033509,
          -0.26693720549957933,
          1.1977756410565095,
          1.2418899324965609,
          0.1448386726329702,
          -0.8383249704598187,
          0.4613771407761224,
          0.6907136239674257,
          -0.7770865391988063,
          1.8834191846965929,
          -1.040256757162747,
          1.075746018187905,
          0.8161357151246217,
          -1.6478080556590253,
          0.5598828902520454,
          0.09308786556076343,
          1.3846773242638237,
          0.06731726469117154,
          0.4639972586776091,
          0.5083226151369764,
          0.0031223349418707355,
          0.46764142249939755,
          -0.988771172254066,
          0.28445899838556676,
          -0.3263153169764636,
          0.7035185973648684,
          -0.2942427789685248,
          -0.04792743719155623,
          0.6027761519884274,
          1.150339974636252,
          1.331210276166172,
          1.7648196027826635,
          0.9051459014460979,
          1.2164688302291016,
          -1.1586530570760645,
          -1.8994692627522238,
          0.648964280459632,
          -1.2437274635004012,
          0.4642076438035809,
          0.4613578876977451,
          0.9775282508897799,
          -0.3932682565496369,
          1.0808150036746442,
          1.2938435672433606,
          0.13650699023595858,
          -0.4883546597784972,
          -0.827146504347888,
          0.9932202446865374,
          -2.051890994725465,
          -0.41855531778896427,
          1.3500868119447316,
          0.5157005462370794,
          0.09485959929633916,
          -0.8144070066493027,
          0.43782580027662277,
          0.1901129179878936,
          1.1301680057015884,
          0.2711532806836349,
          -0.08436387174551684,
          0.07063082918059348,
          -0.5270859585177875,
          0.15682875500009355,
          -0.15026123798119678,
          -0.5486378364124732,
          0.16988014928195602,
          -0.3399379965935771,
          -0.9858402880813029,
          0.21018692376435336,
          -0.5167657190612591,
          0.25115422142534527,
          -0.308269443442743,
          -0.5087521295940682,
          0.3358983424942737,
          -0.6690772169213176,
          2.6921149881000335,
          -0.03146423847961805,
          -0.05458819915908965,
          0.6201677204267683,
          -0.4570741717470614,
          0.8915116056688357,
          -0.4893809998108705,
          -0.025415739580070214,
          2.947899724364172,
          -1.395781003071963,
          0.1965838474326949,
          -0.24311198108061574,
          -0.17756045442745735,
          -1.3054337439831158,
          -1.952468779817143,
          0.5425855414169819,
          0.3874474070288424,
          1.1815548009587562,
          -1.863327855079945,
          3.010685553551049,
          0.10619806912428702,
          -0.6320184511224373
         ],
         "z": [
          -56.05117148396981,
          4.705382516425946,
          -80.71216350639799,
          88.4921105504995,
          -76.60196289255603,
          -62.64828940756458,
          -156.02739414165868,
          122.38361938331414,
          -17.08275852959413,
          -3.734117394119846,
          131.87411539357046,
          63.23513527449455,
          115.34612514299928,
          23.79081585130244,
          65.77784646980616,
          -75.06044171637274,
          106.51338576041024,
          -32.29410071111947,
          82.77831481422922,
          0.6740987680060888,
          -22.891717255771947,
          -46.203066694257565,
          -12.963556321895194,
          9.187360738233208,
          -36.86153499071477,
          46.390972212981865,
          -2.6762856844228082,
          -78.79026759835295,
          48.333264072827475,
          8.33007617520667,
          3.509426470142408,
          -32.33852286418515,
          24.46818165669736,
          -38.822615307015596,
          -91.24528877870934,
          16.575733515314063,
          -7.732830794542373,
          13.751254060865875,
          -75.09151477430159,
          -29.963294493053173,
          7.397434366308261,
          -51.952134501170136,
          98.09959478780502,
          51.68366072042651,
          -65.41562492129627,
          65.17792244865613,
          -86.33289826330844,
          -8.343216482262804,
          -131.47634161410053,
          -77.14026734849463,
          -87.39492191561692,
          84.16678584355587,
          -76.93031439247542,
          -128.01399432442977,
          121.42359527104045,
          79.16280679515313,
          -12.828447327532515,
          -15.546234833408478,
          -34.362362761280465,
          -51.580672566088325,
          29.78851757967877,
          82.11639192757227,
          50.50269633373511,
          42.84079149799534,
          -51.070272999081375,
          -37.951746783068,
          -25.887918441101665,
          1.319132517514447,
          -38.54906604537979,
          2.095622773375867,
          -138.94117768599807,
          33.094273194518536,
          128.0667581181586,
          -87.76490276709474,
          122.063873513438,
          -108.5636828075221,
          -108.54733121847252,
          103.7127524847923,
          -57.91819703612899,
          37.483938192671005,
          -61.265710062058574,
          130.74461652184948,
          -52.40768179735547,
          80.7183775714858,
          -61.26098739716863,
          50.168362089405825,
          38.52764514409566,
          53.50757681218116,
          -68.94153448296672,
          -69.4817083103454,
          22.99580685430923,
          -11.318842889265838,
          17.972140089169102,
          35.73649416621962,
          94.28029865511127,
          -39.47525471752291,
          -12.732105403379695,
          0.6545365707486948,
          -101.04360302188488,
          -48.35874034018714
         ]
        }
       ],
       "layout": {
        "autosize": true,
        "legend": {
         "tracegroupgap": 0
        },
        "margin": {
         "t": 60
        },
        "scene": {
         "aspectmode": "auto",
         "aspectratio": {
          "x": 1,
          "y": 1,
          "z": 1
         },
         "domain": {
          "x": [
           0,
           1
          ],
          "y": [
           0,
           1
          ]
         },
         "xaxis": {
          "title": {
           "text": "feature1"
          },
          "type": "linear"
         },
         "yaxis": {
          "title": {
           "text": "feature2"
          },
          "type": "linear"
         },
         "zaxis": {
          "title": {
           "text": "target"
          },
          "type": "linear"
         }
        },
        "template": {
         "data": {
          "bar": [
           {
            "error_x": {
             "color": "#2a3f5f"
            },
            "error_y": {
             "color": "#2a3f5f"
            },
            "marker": {
             "line": {
              "color": "#E5ECF6",
              "width": 0.5
             },
             "pattern": {
              "fillmode": "overlay",
              "size": 10,
              "solidity": 0.2
             }
            },
            "type": "bar"
           }
          ],
          "barpolar": [
           {
            "marker": {
             "line": {
              "color": "#E5ECF6",
              "width": 0.5
             },
             "pattern": {
              "fillmode": "overlay",
              "size": 10,
              "solidity": 0.2
             }
            },
            "type": "barpolar"
           }
          ],
          "carpet": [
           {
            "aaxis": {
             "endlinecolor": "#2a3f5f",
             "gridcolor": "white",
             "linecolor": "white",
             "minorgridcolor": "white",
             "startlinecolor": "#2a3f5f"
            },
            "baxis": {
             "endlinecolor": "#2a3f5f",
             "gridcolor": "white",
             "linecolor": "white",
             "minorgridcolor": "white",
             "startlinecolor": "#2a3f5f"
            },
            "type": "carpet"
           }
          ],
          "choropleth": [
           {
            "colorbar": {
             "outlinewidth": 0,
             "ticks": ""
            },
            "type": "choropleth"
           }
          ],
          "contour": [
           {
            "colorbar": {
             "outlinewidth": 0,
             "ticks": ""
            },
            "colorscale": [
             [
              0,
              "#0d0887"
             ],
             [
              0.1111111111111111,
              "#46039f"
             ],
             [
              0.2222222222222222,
              "#7201a8"
             ],
             [
              0.3333333333333333,
              "#9c179e"
             ],
             [
              0.4444444444444444,
              "#bd3786"
             ],
             [
              0.5555555555555556,
              "#d8576b"
             ],
             [
              0.6666666666666666,
              "#ed7953"
             ],
             [
              0.7777777777777778,
              "#fb9f3a"
             ],
             [
              0.8888888888888888,
              "#fdca26"
             ],
             [
              1,
              "#f0f921"
             ]
            ],
            "type": "contour"
           }
          ],
          "contourcarpet": [
           {
            "colorbar": {
             "outlinewidth": 0,
             "ticks": ""
            },
            "type": "contourcarpet"
           }
          ],
          "heatmap": [
           {
            "colorbar": {
             "outlinewidth": 0,
             "ticks": ""
            },
            "colorscale": [
             [
              0,
              "#0d0887"
             ],
             [
              0.1111111111111111,
              "#46039f"
             ],
             [
              0.2222222222222222,
              "#7201a8"
             ],
             [
              0.3333333333333333,
              "#9c179e"
             ],
             [
              0.4444444444444444,
              "#bd3786"
             ],
             [
              0.5555555555555556,
              "#d8576b"
             ],
             [
              0.6666666666666666,
              "#ed7953"
             ],
             [
              0.7777777777777778,
              "#fb9f3a"
             ],
             [
              0.8888888888888888,
              "#fdca26"
             ],
             [
              1,
              "#f0f921"
             ]
            ],
            "type": "heatmap"
           }
          ],
          "heatmapgl": [
           {
            "colorbar": {
             "outlinewidth": 0,
             "ticks": ""
            },
            "colorscale": [
             [
              0,
              "#0d0887"
             ],
             [
              0.1111111111111111,
              "#46039f"
             ],
             [
              0.2222222222222222,
              "#7201a8"
             ],
             [
              0.3333333333333333,
              "#9c179e"
             ],
             [
              0.4444444444444444,
              "#bd3786"
             ],
             [
              0.5555555555555556,
              "#d8576b"
             ],
             [
              0.6666666666666666,
              "#ed7953"
             ],
             [
              0.7777777777777778,
              "#fb9f3a"
             ],
             [
              0.8888888888888888,
              "#fdca26"
             ],
             [
              1,
              "#f0f921"
             ]
            ],
            "type": "heatmapgl"
           }
          ],
          "histogram": [
           {
            "marker": {
             "pattern": {
              "fillmode": "overlay",
              "size": 10,
              "solidity": 0.2
             }
            },
            "type": "histogram"
           }
          ],
          "histogram2d": [
           {
            "colorbar": {
             "outlinewidth": 0,
             "ticks": ""
            },
            "colorscale": [
             [
              0,
              "#0d0887"
             ],
             [
              0.1111111111111111,
              "#46039f"
             ],
             [
              0.2222222222222222,
              "#7201a8"
             ],
             [
              0.3333333333333333,
              "#9c179e"
             ],
             [
              0.4444444444444444,
              "#bd3786"
             ],
             [
              0.5555555555555556,
              "#d8576b"
             ],
             [
              0.6666666666666666,
              "#ed7953"
             ],
             [
              0.7777777777777778,
              "#fb9f3a"
             ],
             [
              0.8888888888888888,
              "#fdca26"
             ],
             [
              1,
              "#f0f921"
             ]
            ],
            "type": "histogram2d"
           }
          ],
          "histogram2dcontour": [
           {
            "colorbar": {
             "outlinewidth": 0,
             "ticks": ""
            },
            "colorscale": [
             [
              0,
              "#0d0887"
             ],
             [
              0.1111111111111111,
              "#46039f"
             ],
             [
              0.2222222222222222,
              "#7201a8"
             ],
             [
              0.3333333333333333,
              "#9c179e"
             ],
             [
              0.4444444444444444,
              "#bd3786"
             ],
             [
              0.5555555555555556,
              "#d8576b"
             ],
             [
              0.6666666666666666,
              "#ed7953"
             ],
             [
              0.7777777777777778,
              "#fb9f3a"
             ],
             [
              0.8888888888888888,
              "#fdca26"
             ],
             [
              1,
              "#f0f921"
             ]
            ],
            "type": "histogram2dcontour"
           }
          ],
          "mesh3d": [
           {
            "colorbar": {
             "outlinewidth": 0,
             "ticks": ""
            },
            "type": "mesh3d"
           }
          ],
          "parcoords": [
           {
            "line": {
             "colorbar": {
              "outlinewidth": 0,
              "ticks": ""
             }
            },
            "type": "parcoords"
           }
          ],
          "pie": [
           {
            "automargin": true,
            "type": "pie"
           }
          ],
          "scatter": [
           {
            "fillpattern": {
             "fillmode": "overlay",
             "size": 10,
             "solidity": 0.2
            },
            "type": "scatter"
           }
          ],
          "scatter3d": [
           {
            "line": {
             "colorbar": {
              "outlinewidth": 0,
              "ticks": ""
             }
            },
            "marker": {
             "colorbar": {
              "outlinewidth": 0,
              "ticks": ""
             }
            },
            "type": "scatter3d"
           }
          ],
          "scattercarpet": [
           {
            "marker": {
             "colorbar": {
              "outlinewidth": 0,
              "ticks": ""
             }
            },
            "type": "scattercarpet"
           }
          ],
          "scattergeo": [
           {
            "marker": {
             "colorbar": {
              "outlinewidth": 0,
              "ticks": ""
             }
            },
            "type": "scattergeo"
           }
          ],
          "scattergl": [
           {
            "marker": {
             "colorbar": {
              "outlinewidth": 0,
              "ticks": ""
             }
            },
            "type": "scattergl"
           }
          ],
          "scattermapbox": [
           {
            "marker": {
             "colorbar": {
              "outlinewidth": 0,
              "ticks": ""
             }
            },
            "type": "scattermapbox"
           }
          ],
          "scatterpolar": [
           {
            "marker": {
             "colorbar": {
              "outlinewidth": 0,
              "ticks": ""
             }
            },
            "type": "scatterpolar"
           }
          ],
          "scatterpolargl": [
           {
            "marker": {
             "colorbar": {
              "outlinewidth": 0,
              "ticks": ""
             }
            },
            "type": "scatterpolargl"
           }
          ],
          "scatterternary": [
           {
            "marker": {
             "colorbar": {
              "outlinewidth": 0,
              "ticks": ""
             }
            },
            "type": "scatterternary"
           }
          ],
          "surface": [
           {
            "colorbar": {
             "outlinewidth": 0,
             "ticks": ""
            },
            "colorscale": [
             [
              0,
              "#0d0887"
             ],
             [
              0.1111111111111111,
              "#46039f"
             ],
             [
              0.2222222222222222,
              "#7201a8"
             ],
             [
              0.3333333333333333,
              "#9c179e"
             ],
             [
              0.4444444444444444,
              "#bd3786"
             ],
             [
              0.5555555555555556,
              "#d8576b"
             ],
             [
              0.6666666666666666,
              "#ed7953"
             ],
             [
              0.7777777777777778,
              "#fb9f3a"
             ],
             [
              0.8888888888888888,
              "#fdca26"
             ],
             [
              1,
              "#f0f921"
             ]
            ],
            "type": "surface"
           }
          ],
          "table": [
           {
            "cells": {
             "fill": {
              "color": "#EBF0F8"
             },
             "line": {
              "color": "white"
             }
            },
            "header": {
             "fill": {
              "color": "#C8D4E3"
             },
             "line": {
              "color": "white"
             }
            },
            "type": "table"
           }
          ]
         },
         "layout": {
          "annotationdefaults": {
           "arrowcolor": "#2a3f5f",
           "arrowhead": 0,
           "arrowwidth": 1
          },
          "autotypenumbers": "strict",
          "coloraxis": {
           "colorbar": {
            "outlinewidth": 0,
            "ticks": ""
           }
          },
          "colorscale": {
           "diverging": [
            [
             0,
             "#8e0152"
            ],
            [
             0.1,
             "#c51b7d"
            ],
            [
             0.2,
             "#de77ae"
            ],
            [
             0.3,
             "#f1b6da"
            ],
            [
             0.4,
             "#fde0ef"
            ],
            [
             0.5,
             "#f7f7f7"
            ],
            [
             0.6,
             "#e6f5d0"
            ],
            [
             0.7,
             "#b8e186"
            ],
            [
             0.8,
             "#7fbc41"
            ],
            [
             0.9,
             "#4d9221"
            ],
            [
             1,
             "#276419"
            ]
           ],
           "sequential": [
            [
             0,
             "#0d0887"
            ],
            [
             0.1111111111111111,
             "#46039f"
            ],
            [
             0.2222222222222222,
             "#7201a8"
            ],
            [
             0.3333333333333333,
             "#9c179e"
            ],
            [
             0.4444444444444444,
             "#bd3786"
            ],
            [
             0.5555555555555556,
             "#d8576b"
            ],
            [
             0.6666666666666666,
             "#ed7953"
            ],
            [
             0.7777777777777778,
             "#fb9f3a"
            ],
            [
             0.8888888888888888,
             "#fdca26"
            ],
            [
             1,
             "#f0f921"
            ]
           ],
           "sequentialminus": [
            [
             0,
             "#0d0887"
            ],
            [
             0.1111111111111111,
             "#46039f"
            ],
            [
             0.2222222222222222,
             "#7201a8"
            ],
            [
             0.3333333333333333,
             "#9c179e"
            ],
            [
             0.4444444444444444,
             "#bd3786"
            ],
            [
             0.5555555555555556,
             "#d8576b"
            ],
            [
             0.6666666666666666,
             "#ed7953"
            ],
            [
             0.7777777777777778,
             "#fb9f3a"
            ],
            [
             0.8888888888888888,
             "#fdca26"
            ],
            [
             1,
             "#f0f921"
            ]
           ]
          },
          "colorway": [
           "#636efa",
           "#EF553B",
           "#00cc96",
           "#ab63fa",
           "#FFA15A",
           "#19d3f3",
           "#FF6692",
           "#B6E880",
           "#FF97FF",
           "#FECB52"
          ],
          "font": {
           "color": "#2a3f5f"
          },
          "geo": {
           "bgcolor": "white",
           "lakecolor": "white",
           "landcolor": "#E5ECF6",
           "showlakes": true,
           "showland": true,
           "subunitcolor": "white"
          },
          "hoverlabel": {
           "align": "left"
          },
          "hovermode": "closest",
          "mapbox": {
           "style": "light"
          },
          "paper_bgcolor": "white",
          "plot_bgcolor": "#E5ECF6",
          "polar": {
           "angularaxis": {
            "gridcolor": "white",
            "linecolor": "white",
            "ticks": ""
           },
           "bgcolor": "#E5ECF6",
           "radialaxis": {
            "gridcolor": "white",
            "linecolor": "white",
            "ticks": ""
           }
          },
          "scene": {
           "xaxis": {
            "backgroundcolor": "#E5ECF6",
            "gridcolor": "white",
            "gridwidth": 2,
            "linecolor": "white",
            "showbackground": true,
            "ticks": "",
            "zerolinecolor": "white"
           },
           "yaxis": {
            "backgroundcolor": "#E5ECF6",
            "gridcolor": "white",
            "gridwidth": 2,
            "linecolor": "white",
            "showbackground": true,
            "ticks": "",
            "zerolinecolor": "white"
           },
           "zaxis": {
            "backgroundcolor": "#E5ECF6",
            "gridcolor": "white",
            "gridwidth": 2,
            "linecolor": "white",
            "showbackground": true,
            "ticks": "",
            "zerolinecolor": "white"
           }
          },
          "shapedefaults": {
           "line": {
            "color": "#2a3f5f"
           }
          },
          "ternary": {
           "aaxis": {
            "gridcolor": "white",
            "linecolor": "white",
            "ticks": ""
           },
           "baxis": {
            "gridcolor": "white",
            "linecolor": "white",
            "ticks": ""
           },
           "bgcolor": "#E5ECF6",
           "caxis": {
            "gridcolor": "white",
            "linecolor": "white",
            "ticks": ""
           }
          },
          "title": {
           "x": 0.05
          },
          "xaxis": {
           "automargin": true,
           "gridcolor": "white",
           "linecolor": "white",
           "ticks": "",
           "title": {
            "standoff": 15
           },
           "zerolinecolor": "white",
           "zerolinewidth": 2
          },
          "yaxis": {
           "automargin": true,
           "gridcolor": "white",
           "linecolor": "white",
           "ticks": "",
           "title": {
            "standoff": 15
           },
           "zerolinecolor": "white",
           "zerolinewidth": 2
          }
         }
        }
       }
      },
      "image/png": "[encoded data removed]",
      "text/html": [
       "<div>                            <div id=\"beacafb5-5fcb-4e81-9fac-aea31608d7e5\" class=\"plotly-graph-div\" style=\"height:525px; width:100%;\"></div>            <script type=\"text/javascript\">                require([\"plotly\"], function(Plotly) {                    window.PLOTLYENV=window.PLOTLYENV || {};                                    if (document.getElementById(\"beacafb5-5fcb-4e81-9fac-aea31608d7e5\")) {                    Plotly.newPlot(                        \"beacafb5-5fcb-4e81-9fac-aea31608d7e5\",                        [{\"hovertemplate\":\"feature1=%{x}<br>feature2=%{y}<br>target=%{z}<extra></extra>\",\"legendgroup\":\"\",\"marker\":{\"color\":\"#636efa\",\"symbol\":\"circle\"},\"mode\":\"markers\",\"name\":\"\",\"scene\":\"scene\",\"showlegend\":false,\"x\":[-0.3366207644612774,-0.7743339359406056,-0.8990010540322692,0.8726469802509281,-0.33057556698682544,0.09007664427045117,-1.8334051762603703,1.8817034197142128,0.012042072036485777,0.09572714892426795,1.8846894721664902,1.6335933148395738,2.3682329073893613,1.0625813276663254,0.5408598376598629,-1.9873585044843836,1.7839925977773023,-0.17351593209135793,0.49052376264335135,0.1491542103690597,-0.9841765205785347,0.25823490122983894,-0.8893925031576699,-0.5403583631557375,0.826971623271001,-1.0959015875477174,1.3360813178287618,-0.3462473918509882,1.4117609891301612,0.17556673458694222,-0.7111229112400801,0.4576122017793142,-0.05888606551571944,-0.15669533325750268,-0.40219130381658597,-0.2258448343183051,-0.8650911074247809,-1.122859070305171,0.8054961131793656,-0.4587637510753603,0.48207499516634233,-1.3036632755178568,2.651566597384198,-0.3067549821915078,-0.06417113987343828,1.3104915559229846,-1.3481217882172776,-0.5800855128844851,-1.283700830236938,-1.0014413466298866,-1.7735500907640296,-0.026134341167510233,-0.025413300298478717,-0.7606588612995593,1.018155585084061,1.2707661092977751,1.0456438142856237,-0.4728563275334767,-0.49017423314787,-0.6864741774574491,-0.2681567370804653,1.1287266268157548,-0.8550405602990936,-1.097525557754874,-2.172612338728598,0.6340614164960774,-0.783803908911786,1.044672443677476,-0.7705166576882896,0.122189777793409,0.17428062231662114,-0.31457348077800107,1.526243932518339,-0.6437297181869357,2.089754029196796,0.10260053256886778,-2.2858011281670683,2.1327455612406387,-0.9084425293553317,0.8230993509929884,-1.1581295306572355,2.425558186901254,-0.25707260181196445,0.3963677986764341,-0.7583357766782157,-0.4675847182188051,0.7383567997933296,-0.41300963615768366,-0.831455178779418,-1.2770709909401494,-1.144004186930778,0.3862134933785371,0.6980649133861745,0.1290656347810635,-1.0746013736444724,-0.9152348782110423,1.1066959437403494,-0.9199910274868827,-1.6258364356017558,-0.6365491557115427],\"y\":[0.07673598546323258,0.017912708207755614,-0.41241151829113265,0.7360128563409546,-0.2454093782033509,-0.26693720549957933,1.1977756410565095,1.2418899324965609,0.1448386726329702,-0.8383249704598187,0.4613771407761224,0.6907136239674257,-0.7770865391988063,1.8834191846965929,-1.040256757162747,1.075746018187905,0.8161357151246217,-1.6478080556590253,0.5598828902520454,0.09308786556076343,1.3846773242638237,0.06731726469117154,0.4639972586776091,0.5083226151369764,0.0031223349418707355,0.46764142249939755,-0.988771172254066,0.28445899838556676,-0.3263153169764636,0.7035185973648684,-0.2942427789685248,-0.04792743719155623,0.6027761519884274,1.150339974636252,1.331210276166172,1.7648196027826635,0.9051459014460979,1.2164688302291016,-1.1586530570760645,-1.8994692627522238,0.648964280459632,-1.2437274635004012,0.4642076438035809,0.4613578876977451,0.9775282508897799,-0.3932682565496369,1.0808150036746442,1.2938435672433606,0.13650699023595858,-0.4883546597784972,-0.827146504347888,0.9932202446865374,-2.051890994725465,-0.41855531778896427,1.3500868119447316,0.5157005462370794,0.09485959929633916,-0.8144070066493027,0.43782580027662277,0.1901129179878936,1.1301680057015884,0.2711532806836349,-0.08436387174551684,0.07063082918059348,-0.5270859585177875,0.15682875500009355,-0.15026123798119678,-0.5486378364124732,0.16988014928195602,-0.3399379965935771,-0.9858402880813029,0.21018692376435336,-0.5167657190612591,0.25115422142534527,-0.308269443442743,-0.5087521295940682,0.3358983424942737,-0.6690772169213176,2.6921149881000335,-0.03146423847961805,-0.05458819915908965,0.6201677204267683,-0.4570741717470614,0.8915116056688357,-0.4893809998108705,-0.025415739580070214,2.947899724364172,-1.395781003071963,0.1965838474326949,-0.24311198108061574,-0.17756045442745735,-1.3054337439831158,-1.952468779817143,0.5425855414169819,0.3874474070288424,1.1815548009587562,-1.863327855079945,3.010685553551049,0.10619806912428702,-0.6320184511224373],\"z\":[-56.05117148396981,4.705382516425946,-80.71216350639799,88.4921105504995,-76.60196289255603,-62.64828940756458,-156.02739414165868,122.38361938331414,-17.08275852959413,-3.734117394119846,131.87411539357046,63.23513527449455,115.34612514299928,23.79081585130244,65.77784646980616,-75.06044171637274,106.51338576041024,-32.29410071111947,82.77831481422922,0.6740987680060888,-22.891717255771947,-46.203066694257565,-12.963556321895194,9.187360738233208,-36.86153499071477,46.390972212981865,-2.6762856844228082,-78.79026759835295,48.333264072827475,8.33007617520667,3.509426470142408,-32.33852286418515,24.46818165669736,-38.822615307015596,-91.24528877870934,16.575733515314063,-7.732830794542373,13.751254060865875,-75.09151477430159,-29.963294493053173,7.397434366308261,-51.952134501170136,98.09959478780502,51.68366072042651,-65.41562492129627,65.17792244865613,-86.33289826330844,-8.343216482262804,-131.47634161410053,-77.14026734849463,-87.39492191561692,84.16678584355587,-76.93031439247542,-128.01399432442977,121.42359527104045,79.16280679515313,-12.828447327532515,-15.546234833408478,-34.362362761280465,-51.580672566088325,29.78851757967877,82.11639192757227,50.50269633373511,42.84079149799534,-51.070272999081375,-37.951746783068,-25.887918441101665,1.319132517514447,-38.54906604537979,2.095622773375867,-138.94117768599807,33.094273194518536,128.0667581181586,-87.76490276709474,122.063873513438,-108.5636828075221,-108.54733121847252,103.7127524847923,-57.91819703612899,37.483938192671005,-61.265710062058574,130.74461652184948,-52.40768179735547,80.7183775714858,-61.26098739716863,50.168362089405825,38.52764514409566,53.50757681218116,-68.94153448296672,-69.4817083103454,22.99580685430923,-11.318842889265838,17.972140089169102,35.73649416621962,94.28029865511127,-39.47525471752291,-12.732105403379695,0.6545365707486948,-101.04360302188488,-48.35874034018714],\"type\":\"scatter3d\"}],                        {\"template\":{\"data\":{\"histogram2dcontour\":[{\"type\":\"histogram2dcontour\",\"colorbar\":{\"outlinewidth\":0,\"ticks\":\"\"},\"colorscale\":[[0.0,\"#0d0887\"],[0.1111111111111111,\"#46039f\"],[0.2222222222222222,\"#7201a8\"],[0.3333333333333333,\"#9c179e\"],[0.4444444444444444,\"#bd3786\"],[0.5555555555555556,\"#d8576b\"],[0.6666666666666666,\"#ed7953\"],[0.7777777777777778,\"#fb9f3a\"],[0.8888888888888888,\"#fdca26\"],[1.0,\"#f0f921\"]]}],\"choropleth\":[{\"type\":\"choropleth\",\"colorbar\":{\"outlinewidth\":0,\"ticks\":\"\"}}],\"histogram2d\":[{\"type\":\"histogram2d\",\"colorbar\":{\"outlinewidth\":0,\"ticks\":\"\"},\"colorscale\":[[0.0,\"#0d0887\"],[0.1111111111111111,\"#46039f\"],[0.2222222222222222,\"#7201a8\"],[0.3333333333333333,\"#9c179e\"],[0.4444444444444444,\"#bd3786\"],[0.5555555555555556,\"#d8576b\"],[0.6666666666666666,\"#ed7953\"],[0.7777777777777778,\"#fb9f3a\"],[0.8888888888888888,\"#fdca26\"],[1.0,\"#f0f921\"]]}],\"heatmap\":[{\"type\":\"heatmap\",\"colorbar\":{\"outlinewidth\":0,\"ticks\":\"\"},\"colorscale\":[[0.0,\"#0d0887\"],[0.1111111111111111,\"#46039f\"],[0.2222222222222222,\"#7201a8\"],[0.3333333333333333,\"#9c179e\"],[0.4444444444444444,\"#bd3786\"],[0.5555555555555556,\"#d8576b\"],[0.6666666666666666,\"#ed7953\"],[0.7777777777777778,\"#fb9f3a\"],[0.8888888888888888,\"#fdca26\"],[1.0,\"#f0f921\"]]}],\"heatmapgl\":[{\"type\":\"heatmapgl\",\"colorbar\":{\"outlinewidth\":0,\"ticks\":\"\"},\"colorscale\":[[0.0,\"#0d0887\"],[0.1111111111111111,\"#46039f\"],[0.2222222222222222,\"#7201a8\"],[0.3333333333333333,\"#9c179e\"],[0.4444444444444444,\"#bd3786\"],[0.5555555555555556,\"#d8576b\"],[0.6666666666666666,\"#ed7953\"],[0.7777777777777778,\"#fb9f3a\"],[0.8888888888888888,\"#fdca26\"],[1.0,\"#f0f921\"]]}],\"contourcarpet\":[{\"type\":\"contourcarpet\",\"colorbar\":{\"outlinewidth\":0,\"ticks\":\"\"}}],\"contour\":[{\"type\":\"contour\",\"colorbar\":{\"outlinewidth\":0,\"ticks\":\"\"},\"colorscale\":[[0.0,\"#0d0887\"],[0.1111111111111111,\"#46039f\"],[0.2222222222222222,\"#7201a8\"],[0.3333333333333333,\"#9c179e\"],[0.4444444444444444,\"#bd3786\"],[0.5555555555555556,\"#d8576b\"],[0.6666666666666666,\"#ed7953\"],[0.7777777777777778,\"#fb9f3a\"],[0.8888888888888888,\"#fdca26\"],[1.0,\"#f0f921\"]]}],\"surface\":[{\"type\":\"surface\",\"colorbar\":{\"outlinewidth\":0,\"ticks\":\"\"},\"colorscale\":[[0.0,\"#0d0887\"],[0.1111111111111111,\"#46039f\"],[0.2222222222222222,\"#7201a8\"],[0.3333333333333333,\"#9c179e\"],[0.4444444444444444,\"#bd3786\"],[0.5555555555555556,\"#d8576b\"],[0.6666666666666666,\"#ed7953\"],[0.7777777777777778,\"#fb9f3a\"],[0.8888888888888888,\"#fdca26\"],[1.0,\"#f0f921\"]]}],\"mesh3d\":[{\"type\":\"mesh3d\",\"colorbar\":{\"outlinewidth\":0,\"ticks\":\"\"}}],\"scatter\":[{\"fillpattern\":{\"fillmode\":\"overlay\",\"size\":10,\"solidity\":0.2},\"type\":\"scatter\"}],\"parcoords\":[{\"type\":\"parcoords\",\"line\":{\"colorbar\":{\"outlinewidth\":0,\"ticks\":\"\"}}}],\"scatterpolargl\":[{\"type\":\"scatterpolargl\",\"marker\":{\"colorbar\":{\"outlinewidth\":0,\"ticks\":\"\"}}}],\"bar\":[{\"error_x\":{\"color\":\"#2a3f5f\"},\"error_y\":{\"color\":\"#2a3f5f\"},\"marker\":{\"line\":{\"color\":\"#E5ECF6\",\"width\":0.5},\"pattern\":{\"fillmode\":\"overlay\",\"size\":10,\"solidity\":0.2}},\"type\":\"bar\"}],\"scattergeo\":[{\"type\":\"scattergeo\",\"marker\":{\"colorbar\":{\"outlinewidth\":0,\"ticks\":\"\"}}}],\"scatterpolar\":[{\"type\":\"scatterpolar\",\"marker\":{\"colorbar\":{\"outlinewidth\":0,\"ticks\":\"\"}}}],\"histogram\":[{\"marker\":{\"pattern\":{\"fillmode\":\"overlay\",\"size\":10,\"solidity\":0.2}},\"type\":\"histogram\"}],\"scattergl\":[{\"type\":\"scattergl\",\"marker\":{\"colorbar\":{\"outlinewidth\":0,\"ticks\":\"\"}}}],\"scatter3d\":[{\"type\":\"scatter3d\",\"line\":{\"colorbar\":{\"outlinewidth\":0,\"ticks\":\"\"}},\"marker\":{\"colorbar\":{\"outlinewidth\":0,\"ticks\":\"\"}}}],\"scattermapbox\":[{\"type\":\"scattermapbox\",\"marker\":{\"colorbar\":{\"outlinewidth\":0,\"ticks\":\"\"}}}],\"scatterternary\":[{\"type\":\"scatterternary\",\"marker\":{\"colorbar\":{\"outlinewidth\":0,\"ticks\":\"\"}}}],\"scattercarpet\":[{\"type\":\"scattercarpet\",\"marker\":{\"colorbar\":{\"outlinewidth\":0,\"ticks\":\"\"}}}],\"carpet\":[{\"aaxis\":{\"endlinecolor\":\"#2a3f5f\",\"gridcolor\":\"white\",\"linecolor\":\"white\",\"minorgridcolor\":\"white\",\"startlinecolor\":\"#2a3f5f\"},\"baxis\":{\"endlinecolor\":\"#2a3f5f\",\"gridcolor\":\"white\",\"linecolor\":\"white\",\"minorgridcolor\":\"white\",\"startlinecolor\":\"#2a3f5f\"},\"type\":\"carpet\"}],\"table\":[{\"cells\":{\"fill\":{\"color\":\"#EBF0F8\"},\"line\":{\"color\":\"white\"}},\"header\":{\"fill\":{\"color\":\"#C8D4E3\"},\"line\":{\"color\":\"white\"}},\"type\":\"table\"}],\"barpolar\":[{\"marker\":{\"line\":{\"color\":\"#E5ECF6\",\"width\":0.5},\"pattern\":{\"fillmode\":\"overlay\",\"size\":10,\"solidity\":0.2}},\"type\":\"barpolar\"}],\"pie\":[{\"automargin\":true,\"type\":\"pie\"}]},\"layout\":{\"autotypenumbers\":\"strict\",\"colorway\":[\"#636efa\",\"#EF553B\",\"#00cc96\",\"#ab63fa\",\"#FFA15A\",\"#19d3f3\",\"#FF6692\",\"#B6E880\",\"#FF97FF\",\"#FECB52\"],\"font\":{\"color\":\"#2a3f5f\"},\"hovermode\":\"closest\",\"hoverlabel\":{\"align\":\"left\"},\"paper_bgcolor\":\"white\",\"plot_bgcolor\":\"#E5ECF6\",\"polar\":{\"bgcolor\":\"#E5ECF6\",\"angularaxis\":{\"gridcolor\":\"white\",\"linecolor\":\"white\",\"ticks\":\"\"},\"radialaxis\":{\"gridcolor\":\"white\",\"linecolor\":\"white\",\"ticks\":\"\"}},\"ternary\":{\"bgcolor\":\"#E5ECF6\",\"aaxis\":{\"gridcolor\":\"white\",\"linecolor\":\"white\",\"ticks\":\"\"},\"baxis\":{\"gridcolor\":\"white\",\"linecolor\":\"white\",\"ticks\":\"\"},\"caxis\":{\"gridcolor\":\"white\",\"linecolor\":\"white\",\"ticks\":\"\"}},\"coloraxis\":{\"colorbar\":{\"outlinewidth\":0,\"ticks\":\"\"}},\"colorscale\":{\"sequential\":[[0.0,\"#0d0887\"],[0.1111111111111111,\"#46039f\"],[0.2222222222222222,\"#7201a8\"],[0.3333333333333333,\"#9c179e\"],[0.4444444444444444,\"#bd3786\"],[0.5555555555555556,\"#d8576b\"],[0.6666666666666666,\"#ed7953\"],[0.7777777777777778,\"#fb9f3a\"],[0.8888888888888888,\"#fdca26\"],[1.0,\"#f0f921\"]],\"sequentialminus\":[[0.0,\"#0d0887\"],[0.1111111111111111,\"#46039f\"],[0.2222222222222222,\"#7201a8\"],[0.3333333333333333,\"#9c179e\"],[0.4444444444444444,\"#bd3786\"],[0.5555555555555556,\"#d8576b\"],[0.6666666666666666,\"#ed7953\"],[0.7777777777777778,\"#fb9f3a\"],[0.8888888888888888,\"#fdca26\"],[1.0,\"#f0f921\"]],\"diverging\":[[0,\"#8e0152\"],[0.1,\"#c51b7d\"],[0.2,\"#de77ae\"],[0.3,\"#f1b6da\"],[0.4,\"#fde0ef\"],[0.5,\"#f7f7f7\"],[0.6,\"#e6f5d0\"],[0.7,\"#b8e186\"],[0.8,\"#7fbc41\"],[0.9,\"#4d9221\"],[1,\"#276419\"]]},\"xaxis\":{\"gridcolor\":\"white\",\"linecolor\":\"white\",\"ticks\":\"\",\"title\":{\"standoff\":15},\"zerolinecolor\":\"white\",\"automargin\":true,\"zerolinewidth\":2},\"yaxis\":{\"gridcolor\":\"white\",\"linecolor\":\"white\",\"ticks\":\"\",\"title\":{\"standoff\":15},\"zerolinecolor\":\"white\",\"automargin\":true,\"zerolinewidth\":2},\"scene\":{\"xaxis\":{\"backgroundcolor\":\"#E5ECF6\",\"gridcolor\":\"white\",\"linecolor\":\"white\",\"showbackground\":true,\"ticks\":\"\",\"zerolinecolor\":\"white\",\"gridwidth\":2},\"yaxis\":{\"backgroundcolor\":\"#E5ECF6\",\"gridcolor\":\"white\",\"linecolor\":\"white\",\"showbackground\":true,\"ticks\":\"\",\"zerolinecolor\":\"white\",\"gridwidth\":2},\"zaxis\":{\"backgroundcolor\":\"#E5ECF6\",\"gridcolor\":\"white\",\"linecolor\":\"white\",\"showbackground\":true,\"ticks\":\"\",\"zerolinecolor\":\"white\",\"gridwidth\":2}},\"shapedefaults\":{\"line\":{\"color\":\"#2a3f5f\"}},\"annotationdefaults\":{\"arrowcolor\":\"#2a3f5f\",\"arrowhead\":0,\"arrowwidth\":1},\"geo\":{\"bgcolor\":\"white\",\"landcolor\":\"#E5ECF6\",\"subunitcolor\":\"white\",\"showland\":true,\"showlakes\":true,\"lakecolor\":\"white\"},\"title\":{\"x\":0.05},\"mapbox\":{\"style\":\"light\"}}},\"scene\":{\"domain\":{\"x\":[0.0,1.0],\"y\":[0.0,1.0]},\"xaxis\":{\"title\":{\"text\":\"feature1\"}},\"yaxis\":{\"title\":{\"text\":\"feature2\"}},\"zaxis\":{\"title\":{\"text\":\"target\"}}},\"legend\":{\"tracegroupgap\":0},\"margin\":{\"t\":60}},                        {\"responsive\": true}                    ).then(function(){\n",
       "                            \n",
       "var gd = document.getElementById('beacafb5-5fcb-4e81-9fac-aea31608d7e5');\n",
       "var x = new MutationObserver(function (mutations, observer) {{\n",
       "        var display = window.getComputedStyle(gd).display;\n",
       "        if (!display || display === 'none') {{\n",
       "            console.log([gd, 'removed!']);\n",
       "            Plotly.purge(gd);\n",
       "            observer.disconnect();\n",
       "        }}\n",
       "}});\n",
       "\n",
       "// Listen for the removal of the full notebook cells\n",
       "var notebookContainer = gd.closest('#notebook-container');\n",
       "if (notebookContainer) {{\n",
       "    x.observe(notebookContainer, {childList: true});\n",
       "}}\n",
       "\n",
       "// Listen for the clearing of the current output cell\n",
       "var outputEl = gd.closest('.output');\n",
       "if (outputEl) {{\n",
       "    x.observe(outputEl, {childList: true});\n",
       "}}\n",
       "\n",
       "                        })                };                });            </script>        </div>"
      ]
     },
     "metadata": {},
     "output_type": "display_data"
    }
   ],
   "source": [
    "fig = px.scatter_3d(df, x='feature1',y='feature2',z='target')\n",
    "\n",
    "fig.show()"
   ]
  },
  {
   "cell_type": "code",
   "execution_count": 11,
   "id": "f1030426-e710-4f6f-a4fb-c735e6e71a02",
   "metadata": {},
   "outputs": [],
   "source": [
    "from sklearn.model_selection import train_test_split"
   ]
  },
  {
   "cell_type": "code",
   "execution_count": 13,
   "id": "1ec866c5-d37b-4c90-a31f-ae78525e30ad",
   "metadata": {},
   "outputs": [],
   "source": [
    "X_train,X_test,y_train,y_test = train_test_split(X,y,test_size=0.2,random_state=2)"
   ]
  },
  {
   "cell_type": "code",
   "execution_count": 12,
   "id": "00911b38-452d-4218-8739-c19b6d00e432",
   "metadata": {},
   "outputs": [],
   "source": [
    "from sklearn.linear_model import LinearRegression"
   ]
  },
  {
   "cell_type": "code",
   "execution_count": 14,
   "id": "3bb307f5-60bb-4105-b2ca-e54e358eb627",
   "metadata": {},
   "outputs": [],
   "source": [
    "lr = LinearRegression()"
   ]
  },
  {
   "cell_type": "code",
   "execution_count": 15,
   "id": "4f9be206-f194-485b-9551-e1f09a30662f",
   "metadata": {},
   "outputs": [
    {
     "data": {
      "text/html": [
       "<style>#sk-container-id-1 {color: black;background-color: white;}#sk-container-id-1 pre{padding: 0;}#sk-container-id-1 div.sk-toggleable {background-color: white;}#sk-container-id-1 label.sk-toggleable__label {cursor: pointer;display: block;width: 100%;margin-bottom: 0;padding: 0.3em;box-sizing: border-box;text-align: center;}#sk-container-id-1 label.sk-toggleable__label-arrow:before {content: \"▸\";float: left;margin-right: 0.25em;color: #696969;}#sk-container-id-1 label.sk-toggleable__label-arrow:hover:before {color: black;}#sk-container-id-1 div.sk-estimator:hover label.sk-toggleable__label-arrow:before {color: black;}#sk-container-id-1 div.sk-toggleable__content {max-height: 0;max-width: 0;overflow: hidden;text-align: left;background-color: #f0f8ff;}#sk-container-id-1 div.sk-toggleable__content pre {margin: 0.2em;color: black;border-radius: 0.25em;background-color: #f0f8ff;}#sk-container-id-1 input.sk-toggleable__control:checked~div.sk-toggleable__content {max-height: 200px;max-width: 100%;overflow: auto;}#sk-container-id-1 input.sk-toggleable__control:checked~label.sk-toggleable__label-arrow:before {content: \"▾\";}#sk-container-id-1 div.sk-estimator input.sk-toggleable__control:checked~label.sk-toggleable__label {background-color: #d4ebff;}#sk-container-id-1 div.sk-label input.sk-toggleable__control:checked~label.sk-toggleable__label {background-color: #d4ebff;}#sk-container-id-1 input.sk-hidden--visually {border: 0;clip: rect(1px 1px 1px 1px);clip: rect(1px, 1px, 1px, 1px);height: 1px;margin: -1px;overflow: hidden;padding: 0;position: absolute;width: 1px;}#sk-container-id-1 div.sk-estimator {font-family: monospace;background-color: #f0f8ff;border: 1px dotted black;border-radius: 0.25em;box-sizing: border-box;margin-bottom: 0.5em;}#sk-container-id-1 div.sk-estimator:hover {background-color: #d4ebff;}#sk-container-id-1 div.sk-parallel-item::after {content: \"\";width: 100%;border-bottom: 1px solid gray;flex-grow: 1;}#sk-container-id-1 div.sk-label:hover label.sk-toggleable__label {background-color: #d4ebff;}#sk-container-id-1 div.sk-serial::before {content: \"\";position: absolute;border-left: 1px solid gray;box-sizing: border-box;top: 0;bottom: 0;left: 50%;z-index: 0;}#sk-container-id-1 div.sk-serial {display: flex;flex-direction: column;align-items: center;background-color: white;padding-right: 0.2em;padding-left: 0.2em;position: relative;}#sk-container-id-1 div.sk-item {position: relative;z-index: 1;}#sk-container-id-1 div.sk-parallel {display: flex;align-items: stretch;justify-content: center;background-color: white;position: relative;}#sk-container-id-1 div.sk-item::before, #sk-container-id-1 div.sk-parallel-item::before {content: \"\";position: absolute;border-left: 1px solid gray;box-sizing: border-box;top: 0;bottom: 0;left: 50%;z-index: -1;}#sk-container-id-1 div.sk-parallel-item {display: flex;flex-direction: column;z-index: 1;position: relative;background-color: white;}#sk-container-id-1 div.sk-parallel-item:first-child::after {align-self: flex-end;width: 50%;}#sk-container-id-1 div.sk-parallel-item:last-child::after {align-self: flex-start;width: 50%;}#sk-container-id-1 div.sk-parallel-item:only-child::after {width: 0;}#sk-container-id-1 div.sk-dashed-wrapped {border: 1px dashed gray;margin: 0 0.4em 0.5em 0.4em;box-sizing: border-box;padding-bottom: 0.4em;background-color: white;}#sk-container-id-1 div.sk-label label {font-family: monospace;font-weight: bold;display: inline-block;line-height: 1.2em;}#sk-container-id-1 div.sk-label-container {text-align: center;}#sk-container-id-1 div.sk-container {/* jupyter's `normalize.less` sets `[hidden] { display: none; }` but bootstrap.min.css set `[hidden] { display: none !important; }` so we also need the `!important` here to be able to override the default hidden behavior on the sphinx rendered scikit-learn.org. See: https://github.com/scikit-learn/scikit-learn/issues/21755 */display: inline-block !important;position: relative;}#sk-container-id-1 div.sk-text-repr-fallback {display: none;}</style><div id=\"sk-container-id-1\" class=\"sk-top-container\"><div class=\"sk-text-repr-fallback\"><pre>LinearRegression()</pre><b>In a Jupyter environment, please rerun this cell to show the HTML representation or trust the notebook. <br />On GitHub, the HTML representation is unable to render, please try loading this page with nbviewer.org.</b></div><div class=\"sk-container\" hidden><div class=\"sk-item\"><div class=\"sk-estimator sk-toggleable\"><input class=\"sk-toggleable__control sk-hidden--visually\" id=\"sk-estimator-id-1\" type=\"checkbox\" checked><label for=\"sk-estimator-id-1\" class=\"sk-toggleable__label sk-toggleable__label-arrow\">LinearRegression</label><div class=\"sk-toggleable__content\"><pre>LinearRegression()</pre></div></div></div></div></div>"
      ],
      "text/plain": [
       "LinearRegression()"
      ]
     },
     "execution_count": 15,
     "metadata": {},
     "output_type": "execute_result"
    }
   ],
   "source": [
    "lr.fit(X_train,y_train)"
   ]
  },
  {
   "cell_type": "code",
   "execution_count": 17,
   "id": "d136d62c-d37f-4679-87ed-455265251931",
   "metadata": {},
   "outputs": [],
   "source": [
    "y_pred=lr.predict(X_test)"
   ]
  },
  {
   "cell_type": "code",
   "execution_count": 23,
   "id": "016d8850-8b4f-4024-b896-2e79075ed716",
   "metadata": {},
   "outputs": [
    {
     "name": "stdout",
     "output_type": "stream",
     "text": [
      "MAE      : 35.06983280905964\n",
      "MSE      : 1659.1157444957003\n",
      "R2 Score : 0.5555619256580571\n"
     ]
    }
   ],
   "source": [
    "print(\"MAE      :\", mean_absolute_error(y_test,y_pred))\n",
    "print('MSE      :', mean_squared_error(y_test,y_pred))\n",
    "print('R2 Score :',r2_score(y_test,y_pred))"
   ]
  },
  {
   "cell_type": "code",
   "execution_count": 26,
   "id": "39f7d928-3ea3-4c59-be71-4986ea09cb9d",
   "metadata": {
    "id": "GQQrYU8r3fpd"
   },
   "outputs": [],
   "source": [
    "x = np.linspace(-5, 5, 10)\n",
    "y = np.linspace(-5, 5, 10)\n",
    "xGrid, yGrid = np.meshgrid(y, x)\n",
    "final = np.vstack((xGrid.ravel().reshape(1,100),yGrid.ravel().reshape(1,100))).T\n",
    "z_final = lr.predict(final).reshape(10,10)\n",
    "\n",
    "z = z_final\n",
    "\n"
   ]
  },
  {
   "cell_type": "code",
   "execution_count": 27,
   "id": "75f5569d-5acb-458d-901f-de03360c2e9f",
   "metadata": {
    "colab": {
     "base_uri": "https://localhost:8080/",
     "height": 542
    },
    "id": "NpAvnU-t3yV0",
    "outputId": "adac4b74-fa27-4440-eff7-b0643e1f0ce9"
   },
   "outputs": [
    {
     "data": {
      "application/vnd.plotly.v1+json": {
       "config": {
        "plotlyServerURL": "https://plot.ly"
       },
       "data": [
        {
         "hovertemplate": "feature1=%{x}<br>feature2=%{y}<br>target=%{z}<extra></extra>",
         "legendgroup": "",
         "marker": {
          "color": "#636efa",
          "symbol": "circle"
         },
         "mode": "markers",
         "name": "",
         "scene": "scene",
         "showlegend": false,
         "type": "scatter3d",
         "x": [
          -0.3366207644612774,
          -0.7743339359406056,
          -0.8990010540322692,
          0.8726469802509281,
          -0.33057556698682544,
          0.09007664427045117,
          -1.8334051762603703,
          1.8817034197142128,
          0.012042072036485777,
          0.09572714892426795,
          1.8846894721664902,
          1.6335933148395738,
          2.3682329073893613,
          1.0625813276663254,
          0.5408598376598629,
          -1.9873585044843836,
          1.7839925977773023,
          -0.17351593209135793,
          0.49052376264335135,
          0.1491542103690597,
          -0.9841765205785347,
          0.25823490122983894,
          -0.8893925031576699,
          -0.5403583631557375,
          0.826971623271001,
          -1.0959015875477174,
          1.3360813178287618,
          -0.3462473918509882,
          1.4117609891301612,
          0.17556673458694222,
          -0.7111229112400801,
          0.4576122017793142,
          -0.05888606551571944,
          -0.15669533325750268,
          -0.40219130381658597,
          -0.2258448343183051,
          -0.8650911074247809,
          -1.122859070305171,
          0.8054961131793656,
          -0.4587637510753603,
          0.48207499516634233,
          -1.3036632755178568,
          2.651566597384198,
          -0.3067549821915078,
          -0.06417113987343828,
          1.3104915559229846,
          -1.3481217882172776,
          -0.5800855128844851,
          -1.283700830236938,
          -1.0014413466298866,
          -1.7735500907640296,
          -0.026134341167510233,
          -0.025413300298478717,
          -0.7606588612995593,
          1.018155585084061,
          1.2707661092977751,
          1.0456438142856237,
          -0.4728563275334767,
          -0.49017423314787,
          -0.6864741774574491,
          -0.2681567370804653,
          1.1287266268157548,
          -0.8550405602990936,
          -1.097525557754874,
          -2.172612338728598,
          0.6340614164960774,
          -0.783803908911786,
          1.044672443677476,
          -0.7705166576882896,
          0.122189777793409,
          0.17428062231662114,
          -0.31457348077800107,
          1.526243932518339,
          -0.6437297181869357,
          2.089754029196796,
          0.10260053256886778,
          -2.2858011281670683,
          2.1327455612406387,
          -0.9084425293553317,
          0.8230993509929884,
          -1.1581295306572355,
          2.425558186901254,
          -0.25707260181196445,
          0.3963677986764341,
          -0.7583357766782157,
          -0.4675847182188051,
          0.7383567997933296,
          -0.41300963615768366,
          -0.831455178779418,
          -1.2770709909401494,
          -1.144004186930778,
          0.3862134933785371,
          0.6980649133861745,
          0.1290656347810635,
          -1.0746013736444724,
          -0.9152348782110423,
          1.1066959437403494,
          -0.9199910274868827,
          -1.6258364356017558,
          -0.6365491557115427
         ],
         "y": [
          0.07673598546323258,
          0.017912708207755614,
          -0.41241151829113265,
          0.7360128563409546,
          -0.2454093782033509,
          -0.26693720549957933,
          1.1977756410565095,
          1.2418899324965609,
          0.1448386726329702,
          -0.8383249704598187,
          0.4613771407761224,
          0.6907136239674257,
          -0.7770865391988063,
          1.8834191846965929,
          -1.040256757162747,
          1.075746018187905,
          0.8161357151246217,
          -1.6478080556590253,
          0.5598828902520454,
          0.09308786556076343,
          1.3846773242638237,
          0.06731726469117154,
          0.4639972586776091,
          0.5083226151369764,
          0.0031223349418707355,
          0.46764142249939755,
          -0.988771172254066,
          0.28445899838556676,
          -0.3263153169764636,
          0.7035185973648684,
          -0.2942427789685248,
          -0.04792743719155623,
          0.6027761519884274,
          1.150339974636252,
          1.331210276166172,
          1.7648196027826635,
          0.9051459014460979,
          1.2164688302291016,
          -1.1586530570760645,
          -1.8994692627522238,
          0.648964280459632,
          -1.2437274635004012,
          0.4642076438035809,
          0.4613578876977451,
          0.9775282508897799,
          -0.3932682565496369,
          1.0808150036746442,
          1.2938435672433606,
          0.13650699023595858,
          -0.4883546597784972,
          -0.827146504347888,
          0.9932202446865374,
          -2.051890994725465,
          -0.41855531778896427,
          1.3500868119447316,
          0.5157005462370794,
          0.09485959929633916,
          -0.8144070066493027,
          0.43782580027662277,
          0.1901129179878936,
          1.1301680057015884,
          0.2711532806836349,
          -0.08436387174551684,
          0.07063082918059348,
          -0.5270859585177875,
          0.15682875500009355,
          -0.15026123798119678,
          -0.5486378364124732,
          0.16988014928195602,
          -0.3399379965935771,
          -0.9858402880813029,
          0.21018692376435336,
          -0.5167657190612591,
          0.25115422142534527,
          -0.308269443442743,
          -0.5087521295940682,
          0.3358983424942737,
          -0.6690772169213176,
          2.6921149881000335,
          -0.03146423847961805,
          -0.05458819915908965,
          0.6201677204267683,
          -0.4570741717470614,
          0.8915116056688357,
          -0.4893809998108705,
          -0.025415739580070214,
          2.947899724364172,
          -1.395781003071963,
          0.1965838474326949,
          -0.24311198108061574,
          -0.17756045442745735,
          -1.3054337439831158,
          -1.952468779817143,
          0.5425855414169819,
          0.3874474070288424,
          1.1815548009587562,
          -1.863327855079945,
          3.010685553551049,
          0.10619806912428702,
          -0.6320184511224373
         ],
         "z": [
          -56.05117148396981,
          4.705382516425946,
          -80.71216350639799,
          88.4921105504995,
          -76.60196289255603,
          -62.64828940756458,
          -156.02739414165868,
          122.38361938331414,
          -17.08275852959413,
          -3.734117394119846,
          131.87411539357046,
          63.23513527449455,
          115.34612514299928,
          23.79081585130244,
          65.77784646980616,
          -75.06044171637274,
          106.51338576041024,
          -32.29410071111947,
          82.77831481422922,
          0.6740987680060888,
          -22.891717255771947,
          -46.203066694257565,
          -12.963556321895194,
          9.187360738233208,
          -36.86153499071477,
          46.390972212981865,
          -2.6762856844228082,
          -78.79026759835295,
          48.333264072827475,
          8.33007617520667,
          3.509426470142408,
          -32.33852286418515,
          24.46818165669736,
          -38.822615307015596,
          -91.24528877870934,
          16.575733515314063,
          -7.732830794542373,
          13.751254060865875,
          -75.09151477430159,
          -29.963294493053173,
          7.397434366308261,
          -51.952134501170136,
          98.09959478780502,
          51.68366072042651,
          -65.41562492129627,
          65.17792244865613,
          -86.33289826330844,
          -8.343216482262804,
          -131.47634161410053,
          -77.14026734849463,
          -87.39492191561692,
          84.16678584355587,
          -76.93031439247542,
          -128.01399432442977,
          121.42359527104045,
          79.16280679515313,
          -12.828447327532515,
          -15.546234833408478,
          -34.362362761280465,
          -51.580672566088325,
          29.78851757967877,
          82.11639192757227,
          50.50269633373511,
          42.84079149799534,
          -51.070272999081375,
          -37.951746783068,
          -25.887918441101665,
          1.319132517514447,
          -38.54906604537979,
          2.095622773375867,
          -138.94117768599807,
          33.094273194518536,
          128.0667581181586,
          -87.76490276709474,
          122.063873513438,
          -108.5636828075221,
          -108.54733121847252,
          103.7127524847923,
          -57.91819703612899,
          37.483938192671005,
          -61.265710062058574,
          130.74461652184948,
          -52.40768179735547,
          80.7183775714858,
          -61.26098739716863,
          50.168362089405825,
          38.52764514409566,
          53.50757681218116,
          -68.94153448296672,
          -69.4817083103454,
          22.99580685430923,
          -11.318842889265838,
          17.972140089169102,
          35.73649416621962,
          94.28029865511127,
          -39.47525471752291,
          -12.732105403379695,
          0.6545365707486948,
          -101.04360302188488,
          -48.35874034018714
         ]
        },
        {
         "type": "surface",
         "x": [
          -5,
          -3.888888888888889,
          -2.7777777777777777,
          -1.6666666666666665,
          -0.5555555555555554,
          0.5555555555555554,
          1.666666666666667,
          2.7777777777777786,
          3.8888888888888893,
          5
         ],
         "y": [
          -5,
          -3.888888888888889,
          -2.7777777777777777,
          -1.6666666666666665,
          -0.5555555555555554,
          0.5555555555555554,
          1.666666666666667,
          2.7777777777777786,
          3.8888888888888893,
          5
         ],
         "z": [
          [
           -294.08592378874147,
           -246.06377621971785,
           -198.04162865069424,
           -150.01948108167062,
           -101.99733351264703,
           -53.975185943623444,
           -5.953038374599812,
           42.06910919442383,
           90.09125676344742,
           138.11340433247102
          ],
          [
           -277.5191757907973,
           -229.4970282217737,
           -181.47488065275007,
           -133.45273308372646,
           -85.43058551470287,
           -37.40843794567928,
           10.61370962334435,
           58.63585719236799,
           106.65800476139158,
           154.68015233041518
          ],
          [
           -260.95242779285314,
           -212.93028022382953,
           -164.9081326548059,
           -116.88598508578232,
           -68.86383751675871,
           -20.841689947735112,
           27.180457621288515,
           75.20260519031216,
           123.22475275933574,
           171.24690032835935
          ],
          [
           -244.38567979490898,
           -196.36353222588536,
           -148.34138465686175,
           -100.31923708783816,
           -52.297089518814545,
           -4.274941949790948,
           43.74720561923267,
           91.76935318825632,
           139.79150075727992,
           187.8136483263035
          ],
          [
           -227.81893179696482,
           -179.7967842279412,
           -131.7746366589176,
           -83.752489089894,
           -35.73034152087038,
           12.291806048153214,
           60.313953617176836,
           108.33610118620048,
           156.35824875522408,
           204.38039632424767
          ],
          [
           -211.25218379902066,
           -163.23003622999704,
           -115.20788866097345,
           -67.18574109194984,
           -19.163593522926224,
           28.85855404609737,
           76.880701615121,
           124.90284918414464,
           172.92499675316824,
           220.94714432219183
          ],
          [
           -194.6854358010765,
           -146.66328823205288,
           -98.64114066302929,
           -50.618993094005674,
           -2.5968455249820557,
           45.42530204404154,
           93.44744961306516,
           141.46959718208882,
           189.4917447511124,
           237.513892320136
          ],
          [
           -178.11868780313233,
           -130.09654023410872,
           -82.07439266508511,
           -34.0522450960615,
           13.969902472962117,
           61.992050041985706,
           110.01419761100934,
           158.03634518003298,
           206.0584927490566,
           254.08064031808016
          ],
          [
           -161.55193980518817,
           -113.52979223616457,
           -65.50764466714095,
           -17.48549709811734,
           30.53665047090627,
           78.55879803992987,
           126.58094560895348,
           174.60309317797714,
           222.62524074700073,
           270.6473883160243
          ],
          [
           -144.985191807244,
           -96.9630442382204,
           -48.9408966691968,
           -0.9187491001731849,
           47.10339846885043,
           95.12554603787402,
           143.14769360689766,
           191.1698411759213,
           239.1919887449449,
           287.2141363139685
          ]
         ]
        }
       ],
       "layout": {
        "autosize": true,
        "legend": {
         "tracegroupgap": 0
        },
        "margin": {
         "t": 60
        },
        "scene": {
         "aspectmode": "auto",
         "aspectratio": {
          "x": 1,
          "y": 1,
          "z": 1
         },
         "camera": {
          "center": {
           "x": 0,
           "y": 0,
           "z": 0
          },
          "eye": {
           "x": 0.24356931594545342,
           "y": -1.2347110858819665,
           "z": -0.11954394935698591
          },
          "projection": {
           "type": "perspective"
          },
          "up": {
           "x": 0,
           "y": 0,
           "z": 1
          }
         },
         "domain": {
          "x": [
           0,
           1
          ],
          "y": [
           0,
           1
          ]
         },
         "xaxis": {
          "title": {
           "text": "feature1"
          },
          "type": "linear"
         },
         "yaxis": {
          "title": {
           "text": "feature2"
          },
          "type": "linear"
         },
         "zaxis": {
          "title": {
           "text": "target"
          },
          "type": "linear"
         }
        },
        "template": {
         "data": {
          "bar": [
           {
            "error_x": {
             "color": "#2a3f5f"
            },
            "error_y": {
             "color": "#2a3f5f"
            },
            "marker": {
             "line": {
              "color": "#E5ECF6",
              "width": 0.5
             },
             "pattern": {
              "fillmode": "overlay",
              "size": 10,
              "solidity": 0.2
             }
            },
            "type": "bar"
           }
          ],
          "barpolar": [
           {
            "marker": {
             "line": {
              "color": "#E5ECF6",
              "width": 0.5
             },
             "pattern": {
              "fillmode": "overlay",
              "size": 10,
              "solidity": 0.2
             }
            },
            "type": "barpolar"
           }
          ],
          "carpet": [
           {
            "aaxis": {
             "endlinecolor": "#2a3f5f",
             "gridcolor": "white",
             "linecolor": "white",
             "minorgridcolor": "white",
             "startlinecolor": "#2a3f5f"
            },
            "baxis": {
             "endlinecolor": "#2a3f5f",
             "gridcolor": "white",
             "linecolor": "white",
             "minorgridcolor": "white",
             "startlinecolor": "#2a3f5f"
            },
            "type": "carpet"
           }
          ],
          "choropleth": [
           {
            "colorbar": {
             "outlinewidth": 0,
             "ticks": ""
            },
            "type": "choropleth"
           }
          ],
          "contour": [
           {
            "colorbar": {
             "outlinewidth": 0,
             "ticks": ""
            },
            "colorscale": [
             [
              0,
              "#0d0887"
             ],
             [
              0.1111111111111111,
              "#46039f"
             ],
             [
              0.2222222222222222,
              "#7201a8"
             ],
             [
              0.3333333333333333,
              "#9c179e"
             ],
             [
              0.4444444444444444,
              "#bd3786"
             ],
             [
              0.5555555555555556,
              "#d8576b"
             ],
             [
              0.6666666666666666,
              "#ed7953"
             ],
             [
              0.7777777777777778,
              "#fb9f3a"
             ],
             [
              0.8888888888888888,
              "#fdca26"
             ],
             [
              1,
              "#f0f921"
             ]
            ],
            "type": "contour"
           }
          ],
          "contourcarpet": [
           {
            "colorbar": {
             "outlinewidth": 0,
             "ticks": ""
            },
            "type": "contourcarpet"
           }
          ],
          "heatmap": [
           {
            "colorbar": {
             "outlinewidth": 0,
             "ticks": ""
            },
            "colorscale": [
             [
              0,
              "#0d0887"
             ],
             [
              0.1111111111111111,
              "#46039f"
             ],
             [
              0.2222222222222222,
              "#7201a8"
             ],
             [
              0.3333333333333333,
              "#9c179e"
             ],
             [
              0.4444444444444444,
              "#bd3786"
             ],
             [
              0.5555555555555556,
              "#d8576b"
             ],
             [
              0.6666666666666666,
              "#ed7953"
             ],
             [
              0.7777777777777778,
              "#fb9f3a"
             ],
             [
              0.8888888888888888,
              "#fdca26"
             ],
             [
              1,
              "#f0f921"
             ]
            ],
            "type": "heatmap"
           }
          ],
          "heatmapgl": [
           {
            "colorbar": {
             "outlinewidth": 0,
             "ticks": ""
            },
            "colorscale": [
             [
              0,
              "#0d0887"
             ],
             [
              0.1111111111111111,
              "#46039f"
             ],
             [
              0.2222222222222222,
              "#7201a8"
             ],
             [
              0.3333333333333333,
              "#9c179e"
             ],
             [
              0.4444444444444444,
              "#bd3786"
             ],
             [
              0.5555555555555556,
              "#d8576b"
             ],
             [
              0.6666666666666666,
              "#ed7953"
             ],
             [
              0.7777777777777778,
              "#fb9f3a"
             ],
             [
              0.8888888888888888,
              "#fdca26"
             ],
             [
              1,
              "#f0f921"
             ]
            ],
            "type": "heatmapgl"
           }
          ],
          "histogram": [
           {
            "marker": {
             "pattern": {
              "fillmode": "overlay",
              "size": 10,
              "solidity": 0.2
             }
            },
            "type": "histogram"
           }
          ],
          "histogram2d": [
           {
            "colorbar": {
             "outlinewidth": 0,
             "ticks": ""
            },
            "colorscale": [
             [
              0,
              "#0d0887"
             ],
             [
              0.1111111111111111,
              "#46039f"
             ],
             [
              0.2222222222222222,
              "#7201a8"
             ],
             [
              0.3333333333333333,
              "#9c179e"
             ],
             [
              0.4444444444444444,
              "#bd3786"
             ],
             [
              0.5555555555555556,
              "#d8576b"
             ],
             [
              0.6666666666666666,
              "#ed7953"
             ],
             [
              0.7777777777777778,
              "#fb9f3a"
             ],
             [
              0.8888888888888888,
              "#fdca26"
             ],
             [
              1,
              "#f0f921"
             ]
            ],
            "type": "histogram2d"
           }
          ],
          "histogram2dcontour": [
           {
            "colorbar": {
             "outlinewidth": 0,
             "ticks": ""
            },
            "colorscale": [
             [
              0,
              "#0d0887"
             ],
             [
              0.1111111111111111,
              "#46039f"
             ],
             [
              0.2222222222222222,
              "#7201a8"
             ],
             [
              0.3333333333333333,
              "#9c179e"
             ],
             [
              0.4444444444444444,
              "#bd3786"
             ],
             [
              0.5555555555555556,
              "#d8576b"
             ],
             [
              0.6666666666666666,
              "#ed7953"
             ],
             [
              0.7777777777777778,
              "#fb9f3a"
             ],
             [
              0.8888888888888888,
              "#fdca26"
             ],
             [
              1,
              "#f0f921"
             ]
            ],
            "type": "histogram2dcontour"
           }
          ],
          "mesh3d": [
           {
            "colorbar": {
             "outlinewidth": 0,
             "ticks": ""
            },
            "type": "mesh3d"
           }
          ],
          "parcoords": [
           {
            "line": {
             "colorbar": {
              "outlinewidth": 0,
              "ticks": ""
             }
            },
            "type": "parcoords"
           }
          ],
          "pie": [
           {
            "automargin": true,
            "type": "pie"
           }
          ],
          "scatter": [
           {
            "fillpattern": {
             "fillmode": "overlay",
             "size": 10,
             "solidity": 0.2
            },
            "type": "scatter"
           }
          ],
          "scatter3d": [
           {
            "line": {
             "colorbar": {
              "outlinewidth": 0,
              "ticks": ""
             }
            },
            "marker": {
             "colorbar": {
              "outlinewidth": 0,
              "ticks": ""
             }
            },
            "type": "scatter3d"
           }
          ],
          "scattercarpet": [
           {
            "marker": {
             "colorbar": {
              "outlinewidth": 0,
              "ticks": ""
             }
            },
            "type": "scattercarpet"
           }
          ],
          "scattergeo": [
           {
            "marker": {
             "colorbar": {
              "outlinewidth": 0,
              "ticks": ""
             }
            },
            "type": "scattergeo"
           }
          ],
          "scattergl": [
           {
            "marker": {
             "colorbar": {
              "outlinewidth": 0,
              "ticks": ""
             }
            },
            "type": "scattergl"
           }
          ],
          "scattermapbox": [
           {
            "marker": {
             "colorbar": {
              "outlinewidth": 0,
              "ticks": ""
             }
            },
            "type": "scattermapbox"
           }
          ],
          "scatterpolar": [
           {
            "marker": {
             "colorbar": {
              "outlinewidth": 0,
              "ticks": ""
             }
            },
            "type": "scatterpolar"
           }
          ],
          "scatterpolargl": [
           {
            "marker": {
             "colorbar": {
              "outlinewidth": 0,
              "ticks": ""
             }
            },
            "type": "scatterpolargl"
           }
          ],
          "scatterternary": [
           {
            "marker": {
             "colorbar": {
              "outlinewidth": 0,
              "ticks": ""
             }
            },
            "type": "scatterternary"
           }
          ],
          "surface": [
           {
            "colorbar": {
             "outlinewidth": 0,
             "ticks": ""
            },
            "colorscale": [
             [
              0,
              "#0d0887"
             ],
             [
              0.1111111111111111,
              "#46039f"
             ],
             [
              0.2222222222222222,
              "#7201a8"
             ],
             [
              0.3333333333333333,
              "#9c179e"
             ],
             [
              0.4444444444444444,
              "#bd3786"
             ],
             [
              0.5555555555555556,
              "#d8576b"
             ],
             [
              0.6666666666666666,
              "#ed7953"
             ],
             [
              0.7777777777777778,
              "#fb9f3a"
             ],
             [
              0.8888888888888888,
              "#fdca26"
             ],
             [
              1,
              "#f0f921"
             ]
            ],
            "type": "surface"
           }
          ],
          "table": [
           {
            "cells": {
             "fill": {
              "color": "#EBF0F8"
             },
             "line": {
              "color": "white"
             }
            },
            "header": {
             "fill": {
              "color": "#C8D4E3"
             },
             "line": {
              "color": "white"
             }
            },
            "type": "table"
           }
          ]
         },
         "layout": {
          "annotationdefaults": {
           "arrowcolor": "#2a3f5f",
           "arrowhead": 0,
           "arrowwidth": 1
          },
          "autotypenumbers": "strict",
          "coloraxis": {
           "colorbar": {
            "outlinewidth": 0,
            "ticks": ""
           }
          },
          "colorscale": {
           "diverging": [
            [
             0,
             "#8e0152"
            ],
            [
             0.1,
             "#c51b7d"
            ],
            [
             0.2,
             "#de77ae"
            ],
            [
             0.3,
             "#f1b6da"
            ],
            [
             0.4,
             "#fde0ef"
            ],
            [
             0.5,
             "#f7f7f7"
            ],
            [
             0.6,
             "#e6f5d0"
            ],
            [
             0.7,
             "#b8e186"
            ],
            [
             0.8,
             "#7fbc41"
            ],
            [
             0.9,
             "#4d9221"
            ],
            [
             1,
             "#276419"
            ]
           ],
           "sequential": [
            [
             0,
             "#0d0887"
            ],
            [
             0.1111111111111111,
             "#46039f"
            ],
            [
             0.2222222222222222,
             "#7201a8"
            ],
            [
             0.3333333333333333,
             "#9c179e"
            ],
            [
             0.4444444444444444,
             "#bd3786"
            ],
            [
             0.5555555555555556,
             "#d8576b"
            ],
            [
             0.6666666666666666,
             "#ed7953"
            ],
            [
             0.7777777777777778,
             "#fb9f3a"
            ],
            [
             0.8888888888888888,
             "#fdca26"
            ],
            [
             1,
             "#f0f921"
            ]
           ],
           "sequentialminus": [
            [
             0,
             "#0d0887"
            ],
            [
             0.1111111111111111,
             "#46039f"
            ],
            [
             0.2222222222222222,
             "#7201a8"
            ],
            [
             0.3333333333333333,
             "#9c179e"
            ],
            [
             0.4444444444444444,
             "#bd3786"
            ],
            [
             0.5555555555555556,
             "#d8576b"
            ],
            [
             0.6666666666666666,
             "#ed7953"
            ],
            [
             0.7777777777777778,
             "#fb9f3a"
            ],
            [
             0.8888888888888888,
             "#fdca26"
            ],
            [
             1,
             "#f0f921"
            ]
           ]
          },
          "colorway": [
           "#636efa",
           "#EF553B",
           "#00cc96",
           "#ab63fa",
           "#FFA15A",
           "#19d3f3",
           "#FF6692",
           "#B6E880",
           "#FF97FF",
           "#FECB52"
          ],
          "font": {
           "color": "#2a3f5f"
          },
          "geo": {
           "bgcolor": "white",
           "lakecolor": "white",
           "landcolor": "#E5ECF6",
           "showlakes": true,
           "showland": true,
           "subunitcolor": "white"
          },
          "hoverlabel": {
           "align": "left"
          },
          "hovermode": "closest",
          "mapbox": {
           "style": "light"
          },
          "paper_bgcolor": "white",
          "plot_bgcolor": "#E5ECF6",
          "polar": {
           "angularaxis": {
            "gridcolor": "white",
            "linecolor": "white",
            "ticks": ""
           },
           "bgcolor": "#E5ECF6",
           "radialaxis": {
            "gridcolor": "white",
            "linecolor": "white",
            "ticks": ""
           }
          },
          "scene": {
           "xaxis": {
            "backgroundcolor": "#E5ECF6",
            "gridcolor": "white",
            "gridwidth": 2,
            "linecolor": "white",
            "showbackground": true,
            "ticks": "",
            "zerolinecolor": "white"
           },
           "yaxis": {
            "backgroundcolor": "#E5ECF6",
            "gridcolor": "white",
            "gridwidth": 2,
            "linecolor": "white",
            "showbackground": true,
            "ticks": "",
            "zerolinecolor": "white"
           },
           "zaxis": {
            "backgroundcolor": "#E5ECF6",
            "gridcolor": "white",
            "gridwidth": 2,
            "linecolor": "white",
            "showbackground": true,
            "ticks": "",
            "zerolinecolor": "white"
           }
          },
          "shapedefaults": {
           "line": {
            "color": "#2a3f5f"
           }
          },
          "ternary": {
           "aaxis": {
            "gridcolor": "white",
            "linecolor": "white",
            "ticks": ""
           },
           "baxis": {
            "gridcolor": "white",
            "linecolor": "white",
            "ticks": ""
           },
           "bgcolor": "#E5ECF6",
           "caxis": {
            "gridcolor": "white",
            "linecolor": "white",
            "ticks": ""
           }
          },
          "title": {
           "x": 0.05
          },
          "xaxis": {
           "automargin": true,
           "gridcolor": "white",
           "linecolor": "white",
           "ticks": "",
           "title": {
            "standoff": 15
           },
           "zerolinecolor": "white",
           "zerolinewidth": 2
          },
          "yaxis": {
           "automargin": true,
           "gridcolor": "white",
           "linecolor": "white",
           "ticks": "",
           "title": {
            "standoff": 15
           },
           "zerolinecolor": "white",
           "zerolinewidth": 2
          }
         }
        }
       }
      },
      "image/png": "[encoded data removed]",
      "text/html": [
       "<div>                            <div id=\"d6e0c246-3165-4829-add1-5dc799188e98\" class=\"plotly-graph-div\" style=\"height:525px; width:100%;\"></div>            <script type=\"text/javascript\">                require([\"plotly\"], function(Plotly) {                    window.PLOTLYENV=window.PLOTLYENV || {};                                    if (document.getElementById(\"d6e0c246-3165-4829-add1-5dc799188e98\")) {                    Plotly.newPlot(                        \"d6e0c246-3165-4829-add1-5dc799188e98\",                        [{\"hovertemplate\":\"feature1=%{x}<br>feature2=%{y}<br>target=%{z}<extra></extra>\",\"legendgroup\":\"\",\"marker\":{\"color\":\"#636efa\",\"symbol\":\"circle\"},\"mode\":\"markers\",\"name\":\"\",\"scene\":\"scene\",\"showlegend\":false,\"x\":[-0.3366207644612774,-0.7743339359406056,-0.8990010540322692,0.8726469802509281,-0.33057556698682544,0.09007664427045117,-1.8334051762603703,1.8817034197142128,0.012042072036485777,0.09572714892426795,1.8846894721664902,1.6335933148395738,2.3682329073893613,1.0625813276663254,0.5408598376598629,-1.9873585044843836,1.7839925977773023,-0.17351593209135793,0.49052376264335135,0.1491542103690597,-0.9841765205785347,0.25823490122983894,-0.8893925031576699,-0.5403583631557375,0.826971623271001,-1.0959015875477174,1.3360813178287618,-0.3462473918509882,1.4117609891301612,0.17556673458694222,-0.7111229112400801,0.4576122017793142,-0.05888606551571944,-0.15669533325750268,-0.40219130381658597,-0.2258448343183051,-0.8650911074247809,-1.122859070305171,0.8054961131793656,-0.4587637510753603,0.48207499516634233,-1.3036632755178568,2.651566597384198,-0.3067549821915078,-0.06417113987343828,1.3104915559229846,-1.3481217882172776,-0.5800855128844851,-1.283700830236938,-1.0014413466298866,-1.7735500907640296,-0.026134341167510233,-0.025413300298478717,-0.7606588612995593,1.018155585084061,1.2707661092977751,1.0456438142856237,-0.4728563275334767,-0.49017423314787,-0.6864741774574491,-0.2681567370804653,1.1287266268157548,-0.8550405602990936,-1.097525557754874,-2.172612338728598,0.6340614164960774,-0.783803908911786,1.044672443677476,-0.7705166576882896,0.122189777793409,0.17428062231662114,-0.31457348077800107,1.526243932518339,-0.6437297181869357,2.089754029196796,0.10260053256886778,-2.2858011281670683,2.1327455612406387,-0.9084425293553317,0.8230993509929884,-1.1581295306572355,2.425558186901254,-0.25707260181196445,0.3963677986764341,-0.7583357766782157,-0.4675847182188051,0.7383567997933296,-0.41300963615768366,-0.831455178779418,-1.2770709909401494,-1.144004186930778,0.3862134933785371,0.6980649133861745,0.1290656347810635,-1.0746013736444724,-0.9152348782110423,1.1066959437403494,-0.9199910274868827,-1.6258364356017558,-0.6365491557115427],\"y\":[0.07673598546323258,0.017912708207755614,-0.41241151829113265,0.7360128563409546,-0.2454093782033509,-0.26693720549957933,1.1977756410565095,1.2418899324965609,0.1448386726329702,-0.8383249704598187,0.4613771407761224,0.6907136239674257,-0.7770865391988063,1.8834191846965929,-1.040256757162747,1.075746018187905,0.8161357151246217,-1.6478080556590253,0.5598828902520454,0.09308786556076343,1.3846773242638237,0.06731726469117154,0.4639972586776091,0.5083226151369764,0.0031223349418707355,0.46764142249939755,-0.988771172254066,0.28445899838556676,-0.3263153169764636,0.7035185973648684,-0.2942427789685248,-0.04792743719155623,0.6027761519884274,1.150339974636252,1.331210276166172,1.7648196027826635,0.9051459014460979,1.2164688302291016,-1.1586530570760645,-1.8994692627522238,0.648964280459632,-1.2437274635004012,0.4642076438035809,0.4613578876977451,0.9775282508897799,-0.3932682565496369,1.0808150036746442,1.2938435672433606,0.13650699023595858,-0.4883546597784972,-0.827146504347888,0.9932202446865374,-2.051890994725465,-0.41855531778896427,1.3500868119447316,0.5157005462370794,0.09485959929633916,-0.8144070066493027,0.43782580027662277,0.1901129179878936,1.1301680057015884,0.2711532806836349,-0.08436387174551684,0.07063082918059348,-0.5270859585177875,0.15682875500009355,-0.15026123798119678,-0.5486378364124732,0.16988014928195602,-0.3399379965935771,-0.9858402880813029,0.21018692376435336,-0.5167657190612591,0.25115422142534527,-0.308269443442743,-0.5087521295940682,0.3358983424942737,-0.6690772169213176,2.6921149881000335,-0.03146423847961805,-0.05458819915908965,0.6201677204267683,-0.4570741717470614,0.8915116056688357,-0.4893809998108705,-0.025415739580070214,2.947899724364172,-1.395781003071963,0.1965838474326949,-0.24311198108061574,-0.17756045442745735,-1.3054337439831158,-1.952468779817143,0.5425855414169819,0.3874474070288424,1.1815548009587562,-1.863327855079945,3.010685553551049,0.10619806912428702,-0.6320184511224373],\"z\":[-56.05117148396981,4.705382516425946,-80.71216350639799,88.4921105504995,-76.60196289255603,-62.64828940756458,-156.02739414165868,122.38361938331414,-17.08275852959413,-3.734117394119846,131.87411539357046,63.23513527449455,115.34612514299928,23.79081585130244,65.77784646980616,-75.06044171637274,106.51338576041024,-32.29410071111947,82.77831481422922,0.6740987680060888,-22.891717255771947,-46.203066694257565,-12.963556321895194,9.187360738233208,-36.86153499071477,46.390972212981865,-2.6762856844228082,-78.79026759835295,48.333264072827475,8.33007617520667,3.509426470142408,-32.33852286418515,24.46818165669736,-38.822615307015596,-91.24528877870934,16.575733515314063,-7.732830794542373,13.751254060865875,-75.09151477430159,-29.963294493053173,7.397434366308261,-51.952134501170136,98.09959478780502,51.68366072042651,-65.41562492129627,65.17792244865613,-86.33289826330844,-8.343216482262804,-131.47634161410053,-77.14026734849463,-87.39492191561692,84.16678584355587,-76.93031439247542,-128.01399432442977,121.42359527104045,79.16280679515313,-12.828447327532515,-15.546234833408478,-34.362362761280465,-51.580672566088325,29.78851757967877,82.11639192757227,50.50269633373511,42.84079149799534,-51.070272999081375,-37.951746783068,-25.887918441101665,1.319132517514447,-38.54906604537979,2.095622773375867,-138.94117768599807,33.094273194518536,128.0667581181586,-87.76490276709474,122.063873513438,-108.5636828075221,-108.54733121847252,103.7127524847923,-57.91819703612899,37.483938192671005,-61.265710062058574,130.74461652184948,-52.40768179735547,80.7183775714858,-61.26098739716863,50.168362089405825,38.52764514409566,53.50757681218116,-68.94153448296672,-69.4817083103454,22.99580685430923,-11.318842889265838,17.972140089169102,35.73649416621962,94.28029865511127,-39.47525471752291,-12.732105403379695,0.6545365707486948,-101.04360302188488,-48.35874034018714],\"type\":\"scatter3d\"},{\"x\":[-5.0,-3.888888888888889,-2.7777777777777777,-1.6666666666666665,-0.5555555555555554,0.5555555555555554,1.666666666666667,2.7777777777777786,3.8888888888888893,5.0],\"y\":[-5.0,-3.888888888888889,-2.7777777777777777,-1.6666666666666665,-0.5555555555555554,0.5555555555555554,1.666666666666667,2.7777777777777786,3.8888888888888893,5.0],\"z\":[[-294.08592378874147,-246.06377621971785,-198.04162865069424,-150.01948108167062,-101.99733351264703,-53.975185943623444,-5.953038374599812,42.06910919442383,90.09125676344742,138.11340433247102],[-277.5191757907973,-229.4970282217737,-181.47488065275007,-133.45273308372646,-85.43058551470287,-37.40843794567928,10.61370962334435,58.63585719236799,106.65800476139158,154.68015233041518],[-260.95242779285314,-212.93028022382953,-164.9081326548059,-116.88598508578232,-68.86383751675871,-20.841689947735112,27.180457621288515,75.20260519031216,123.22475275933574,171.24690032835935],[-244.38567979490898,-196.36353222588536,-148.34138465686175,-100.31923708783816,-52.297089518814545,-4.274941949790948,43.74720561923267,91.76935318825632,139.79150075727992,187.8136483263035],[-227.81893179696482,-179.7967842279412,-131.7746366589176,-83.752489089894,-35.73034152087038,12.291806048153214,60.313953617176836,108.33610118620048,156.35824875522408,204.38039632424767],[-211.25218379902066,-163.23003622999704,-115.20788866097345,-67.18574109194984,-19.163593522926224,28.85855404609737,76.880701615121,124.90284918414464,172.92499675316824,220.94714432219183],[-194.6854358010765,-146.66328823205288,-98.64114066302929,-50.618993094005674,-2.5968455249820557,45.42530204404154,93.44744961306516,141.46959718208882,189.4917447511124,237.513892320136],[-178.11868780313233,-130.09654023410872,-82.07439266508511,-34.0522450960615,13.969902472962117,61.992050041985706,110.01419761100934,158.03634518003298,206.0584927490566,254.08064031808016],[-161.55193980518817,-113.52979223616457,-65.50764466714095,-17.48549709811734,30.53665047090627,78.55879803992987,126.58094560895348,174.60309317797714,222.62524074700073,270.6473883160243],[-144.985191807244,-96.9630442382204,-48.9408966691968,-0.9187491001731849,47.10339846885043,95.12554603787402,143.14769360689766,191.1698411759213,239.1919887449449,287.2141363139685]],\"type\":\"surface\"}],                        {\"template\":{\"data\":{\"histogram2dcontour\":[{\"type\":\"histogram2dcontour\",\"colorbar\":{\"outlinewidth\":0,\"ticks\":\"\"},\"colorscale\":[[0.0,\"#0d0887\"],[0.1111111111111111,\"#46039f\"],[0.2222222222222222,\"#7201a8\"],[0.3333333333333333,\"#9c179e\"],[0.4444444444444444,\"#bd3786\"],[0.5555555555555556,\"#d8576b\"],[0.6666666666666666,\"#ed7953\"],[0.7777777777777778,\"#fb9f3a\"],[0.8888888888888888,\"#fdca26\"],[1.0,\"#f0f921\"]]}],\"choropleth\":[{\"type\":\"choropleth\",\"colorbar\":{\"outlinewidth\":0,\"ticks\":\"\"}}],\"histogram2d\":[{\"type\":\"histogram2d\",\"colorbar\":{\"outlinewidth\":0,\"ticks\":\"\"},\"colorscale\":[[0.0,\"#0d0887\"],[0.1111111111111111,\"#46039f\"],[0.2222222222222222,\"#7201a8\"],[0.3333333333333333,\"#9c179e\"],[0.4444444444444444,\"#bd3786\"],[0.5555555555555556,\"#d8576b\"],[0.6666666666666666,\"#ed7953\"],[0.7777777777777778,\"#fb9f3a\"],[0.8888888888888888,\"#fdca26\"],[1.0,\"#f0f921\"]]}],\"heatmap\":[{\"type\":\"heatmap\",\"colorbar\":{\"outlinewidth\":0,\"ticks\":\"\"},\"colorscale\":[[0.0,\"#0d0887\"],[0.1111111111111111,\"#46039f\"],[0.2222222222222222,\"#7201a8\"],[0.3333333333333333,\"#9c179e\"],[0.4444444444444444,\"#bd3786\"],[0.5555555555555556,\"#d8576b\"],[0.6666666666666666,\"#ed7953\"],[0.7777777777777778,\"#fb9f3a\"],[0.8888888888888888,\"#fdca26\"],[1.0,\"#f0f921\"]]}],\"heatmapgl\":[{\"type\":\"heatmapgl\",\"colorbar\":{\"outlinewidth\":0,\"ticks\":\"\"},\"colorscale\":[[0.0,\"#0d0887\"],[0.1111111111111111,\"#46039f\"],[0.2222222222222222,\"#7201a8\"],[0.3333333333333333,\"#9c179e\"],[0.4444444444444444,\"#bd3786\"],[0.5555555555555556,\"#d8576b\"],[0.6666666666666666,\"#ed7953\"],[0.7777777777777778,\"#fb9f3a\"],[0.8888888888888888,\"#fdca26\"],[1.0,\"#f0f921\"]]}],\"contourcarpet\":[{\"type\":\"contourcarpet\",\"colorbar\":{\"outlinewidth\":0,\"ticks\":\"\"}}],\"contour\":[{\"type\":\"contour\",\"colorbar\":{\"outlinewidth\":0,\"ticks\":\"\"},\"colorscale\":[[0.0,\"#0d0887\"],[0.1111111111111111,\"#46039f\"],[0.2222222222222222,\"#7201a8\"],[0.3333333333333333,\"#9c179e\"],[0.4444444444444444,\"#bd3786\"],[0.5555555555555556,\"#d8576b\"],[0.6666666666666666,\"#ed7953\"],[0.7777777777777778,\"#fb9f3a\"],[0.8888888888888888,\"#fdca26\"],[1.0,\"#f0f921\"]]}],\"surface\":[{\"type\":\"surface\",\"colorbar\":{\"outlinewidth\":0,\"ticks\":\"\"},\"colorscale\":[[0.0,\"#0d0887\"],[0.1111111111111111,\"#46039f\"],[0.2222222222222222,\"#7201a8\"],[0.3333333333333333,\"#9c179e\"],[0.4444444444444444,\"#bd3786\"],[0.5555555555555556,\"#d8576b\"],[0.6666666666666666,\"#ed7953\"],[0.7777777777777778,\"#fb9f3a\"],[0.8888888888888888,\"#fdca26\"],[1.0,\"#f0f921\"]]}],\"mesh3d\":[{\"type\":\"mesh3d\",\"colorbar\":{\"outlinewidth\":0,\"ticks\":\"\"}}],\"scatter\":[{\"fillpattern\":{\"fillmode\":\"overlay\",\"size\":10,\"solidity\":0.2},\"type\":\"scatter\"}],\"parcoords\":[{\"type\":\"parcoords\",\"line\":{\"colorbar\":{\"outlinewidth\":0,\"ticks\":\"\"}}}],\"scatterpolargl\":[{\"type\":\"scatterpolargl\",\"marker\":{\"colorbar\":{\"outlinewidth\":0,\"ticks\":\"\"}}}],\"bar\":[{\"error_x\":{\"color\":\"#2a3f5f\"},\"error_y\":{\"color\":\"#2a3f5f\"},\"marker\":{\"line\":{\"color\":\"#E5ECF6\",\"width\":0.5},\"pattern\":{\"fillmode\":\"overlay\",\"size\":10,\"solidity\":0.2}},\"type\":\"bar\"}],\"scattergeo\":[{\"type\":\"scattergeo\",\"marker\":{\"colorbar\":{\"outlinewidth\":0,\"ticks\":\"\"}}}],\"scatterpolar\":[{\"type\":\"scatterpolar\",\"marker\":{\"colorbar\":{\"outlinewidth\":0,\"ticks\":\"\"}}}],\"histogram\":[{\"marker\":{\"pattern\":{\"fillmode\":\"overlay\",\"size\":10,\"solidity\":0.2}},\"type\":\"histogram\"}],\"scattergl\":[{\"type\":\"scattergl\",\"marker\":{\"colorbar\":{\"outlinewidth\":0,\"ticks\":\"\"}}}],\"scatter3d\":[{\"type\":\"scatter3d\",\"line\":{\"colorbar\":{\"outlinewidth\":0,\"ticks\":\"\"}},\"marker\":{\"colorbar\":{\"outlinewidth\":0,\"ticks\":\"\"}}}],\"scattermapbox\":[{\"type\":\"scattermapbox\",\"marker\":{\"colorbar\":{\"outlinewidth\":0,\"ticks\":\"\"}}}],\"scatterternary\":[{\"type\":\"scatterternary\",\"marker\":{\"colorbar\":{\"outlinewidth\":0,\"ticks\":\"\"}}}],\"scattercarpet\":[{\"type\":\"scattercarpet\",\"marker\":{\"colorbar\":{\"outlinewidth\":0,\"ticks\":\"\"}}}],\"carpet\":[{\"aaxis\":{\"endlinecolor\":\"#2a3f5f\",\"gridcolor\":\"white\",\"linecolor\":\"white\",\"minorgridcolor\":\"white\",\"startlinecolor\":\"#2a3f5f\"},\"baxis\":{\"endlinecolor\":\"#2a3f5f\",\"gridcolor\":\"white\",\"linecolor\":\"white\",\"minorgridcolor\":\"white\",\"startlinecolor\":\"#2a3f5f\"},\"type\":\"carpet\"}],\"table\":[{\"cells\":{\"fill\":{\"color\":\"#EBF0F8\"},\"line\":{\"color\":\"white\"}},\"header\":{\"fill\":{\"color\":\"#C8D4E3\"},\"line\":{\"color\":\"white\"}},\"type\":\"table\"}],\"barpolar\":[{\"marker\":{\"line\":{\"color\":\"#E5ECF6\",\"width\":0.5},\"pattern\":{\"fillmode\":\"overlay\",\"size\":10,\"solidity\":0.2}},\"type\":\"barpolar\"}],\"pie\":[{\"automargin\":true,\"type\":\"pie\"}]},\"layout\":{\"autotypenumbers\":\"strict\",\"colorway\":[\"#636efa\",\"#EF553B\",\"#00cc96\",\"#ab63fa\",\"#FFA15A\",\"#19d3f3\",\"#FF6692\",\"#B6E880\",\"#FF97FF\",\"#FECB52\"],\"font\":{\"color\":\"#2a3f5f\"},\"hovermode\":\"closest\",\"hoverlabel\":{\"align\":\"left\"},\"paper_bgcolor\":\"white\",\"plot_bgcolor\":\"#E5ECF6\",\"polar\":{\"bgcolor\":\"#E5ECF6\",\"angularaxis\":{\"gridcolor\":\"white\",\"linecolor\":\"white\",\"ticks\":\"\"},\"radialaxis\":{\"gridcolor\":\"white\",\"linecolor\":\"white\",\"ticks\":\"\"}},\"ternary\":{\"bgcolor\":\"#E5ECF6\",\"aaxis\":{\"gridcolor\":\"white\",\"linecolor\":\"white\",\"ticks\":\"\"},\"baxis\":{\"gridcolor\":\"white\",\"linecolor\":\"white\",\"ticks\":\"\"},\"caxis\":{\"gridcolor\":\"white\",\"linecolor\":\"white\",\"ticks\":\"\"}},\"coloraxis\":{\"colorbar\":{\"outlinewidth\":0,\"ticks\":\"\"}},\"colorscale\":{\"sequential\":[[0.0,\"#0d0887\"],[0.1111111111111111,\"#46039f\"],[0.2222222222222222,\"#7201a8\"],[0.3333333333333333,\"#9c179e\"],[0.4444444444444444,\"#bd3786\"],[0.5555555555555556,\"#d8576b\"],[0.6666666666666666,\"#ed7953\"],[0.7777777777777778,\"#fb9f3a\"],[0.8888888888888888,\"#fdca26\"],[1.0,\"#f0f921\"]],\"sequentialminus\":[[0.0,\"#0d0887\"],[0.1111111111111111,\"#46039f\"],[0.2222222222222222,\"#7201a8\"],[0.3333333333333333,\"#9c179e\"],[0.4444444444444444,\"#bd3786\"],[0.5555555555555556,\"#d8576b\"],[0.6666666666666666,\"#ed7953\"],[0.7777777777777778,\"#fb9f3a\"],[0.8888888888888888,\"#fdca26\"],[1.0,\"#f0f921\"]],\"diverging\":[[0,\"#8e0152\"],[0.1,\"#c51b7d\"],[0.2,\"#de77ae\"],[0.3,\"#f1b6da\"],[0.4,\"#fde0ef\"],[0.5,\"#f7f7f7\"],[0.6,\"#e6f5d0\"],[0.7,\"#b8e186\"],[0.8,\"#7fbc41\"],[0.9,\"#4d9221\"],[1,\"#276419\"]]},\"xaxis\":{\"gridcolor\":\"white\",\"linecolor\":\"white\",\"ticks\":\"\",\"title\":{\"standoff\":15},\"zerolinecolor\":\"white\",\"automargin\":true,\"zerolinewidth\":2},\"yaxis\":{\"gridcolor\":\"white\",\"linecolor\":\"white\",\"ticks\":\"\",\"title\":{\"standoff\":15},\"zerolinecolor\":\"white\",\"automargin\":true,\"zerolinewidth\":2},\"scene\":{\"xaxis\":{\"backgroundcolor\":\"#E5ECF6\",\"gridcolor\":\"white\",\"linecolor\":\"white\",\"showbackground\":true,\"ticks\":\"\",\"zerolinecolor\":\"white\",\"gridwidth\":2},\"yaxis\":{\"backgroundcolor\":\"#E5ECF6\",\"gridcolor\":\"white\",\"linecolor\":\"white\",\"showbackground\":true,\"ticks\":\"\",\"zerolinecolor\":\"white\",\"gridwidth\":2},\"zaxis\":{\"backgroundcolor\":\"#E5ECF6\",\"gridcolor\":\"white\",\"linecolor\":\"white\",\"showbackground\":true,\"ticks\":\"\",\"zerolinecolor\":\"white\",\"gridwidth\":2}},\"shapedefaults\":{\"line\":{\"color\":\"#2a3f5f\"}},\"annotationdefaults\":{\"arrowcolor\":\"#2a3f5f\",\"arrowhead\":0,\"arrowwidth\":1},\"geo\":{\"bgcolor\":\"white\",\"landcolor\":\"#E5ECF6\",\"subunitcolor\":\"white\",\"showland\":true,\"showlakes\":true,\"lakecolor\":\"white\"},\"title\":{\"x\":0.05},\"mapbox\":{\"style\":\"light\"}}},\"scene\":{\"domain\":{\"x\":[0.0,1.0],\"y\":[0.0,1.0]},\"xaxis\":{\"title\":{\"text\":\"feature1\"}},\"yaxis\":{\"title\":{\"text\":\"feature2\"}},\"zaxis\":{\"title\":{\"text\":\"target\"}}},\"legend\":{\"tracegroupgap\":0},\"margin\":{\"t\":60}},                        {\"responsive\": true}                    ).then(function(){\n",
       "                            \n",
       "var gd = document.getElementById('d6e0c246-3165-4829-add1-5dc799188e98');\n",
       "var x = new MutationObserver(function (mutations, observer) {{\n",
       "        var display = window.getComputedStyle(gd).display;\n",
       "        if (!display || display === 'none') {{\n",
       "            console.log([gd, 'removed!']);\n",
       "            Plotly.purge(gd);\n",
       "            observer.disconnect();\n",
       "        }}\n",
       "}});\n",
       "\n",
       "// Listen for the removal of the full notebook cells\n",
       "var notebookContainer = gd.closest('#notebook-container');\n",
       "if (notebookContainer) {{\n",
       "    x.observe(notebookContainer, {childList: true});\n",
       "}}\n",
       "\n",
       "// Listen for the clearing of the current output cell\n",
       "var outputEl = gd.closest('.output');\n",
       "if (outputEl) {{\n",
       "    x.observe(outputEl, {childList: true});\n",
       "}}\n",
       "\n",
       "                        })                };                });            </script>        </div>"
      ]
     },
     "metadata": {},
     "output_type": "display_data"
    }
   ],
   "source": [
    "fig = px.scatter_3d(df, x='feature1', y='feature2', z='target')\n",
    "\n",
    "fig.add_trace(go.Surface(x = x, y = y, z =z ))\n",
    "\n",
    "fig.show()"
   ]
  },
  {
   "cell_type": "code",
   "execution_count": null,
   "id": "ef2684ce-2405-4bb0-a646-9662dce42eca",
   "metadata": {},
   "outputs": [],
   "source": []
  }
 ],
 "metadata": {
  "kernelspec": {
   "display_name": "Python 3 (ipykernel)",
   "language": "python",
   "name": "python3"
  },
  "language_info": {
   "codemirror_mode": {
    "name": "ipython",
    "version": 3
   },
   "file_extension": ".py",
   "mimetype": "text/x-python",
   "name": "python",
   "nbconvert_exporter": "python",
   "pygments_lexer": "ipython3",
   "version": "3.9.12"
  }
 },
 "nbformat": 4,
 "nbformat_minor": 5
}
